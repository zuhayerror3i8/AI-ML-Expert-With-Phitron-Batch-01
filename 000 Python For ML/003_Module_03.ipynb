{
  "cells": [
    {
      "cell_type": "markdown",
      "metadata": {
        "id": "view-in-github",
        "colab_type": "text"
      },
      "source": [
        "<a href=\"https://colab.research.google.com/github/zuhayerror3i8/AI-ML-Expert-With-Phitron-Batch-01/blob/main/000%20Python%20For%20ML/003_Module_03.ipynb\" target=\"_parent\"><img src=\"https://colab.research.google.com/assets/colab-badge.svg\" alt=\"Open In Colab\"/></a>"
      ]
    },
    {
      "cell_type": "markdown",
      "id": "5e394280",
      "metadata": {
        "id": "5e394280"
      },
      "source": [
        "# Module 3 — String and List"
      ]
    },
    {
      "cell_type": "code",
      "execution_count": null,
      "id": "0f652f84",
      "metadata": {
        "id": "0f652f84"
      },
      "outputs": [],
      "source": [
        "# <--- String in Python --->\n",
        "str = \"Hello, World!\"\n",
        "\n",
        "print(str)  # Output: Hello, World!\n",
        "print(type(str))  # Output: <class 'str'>\n",
        "\n",
        "# <--- Multi line string in Python --->\n",
        "multi_line_str = \"\"\"This is a multi-line string.\n",
        "It can span multiple lines.\n",
        "This is the third line.\"\"\"\n",
        "\n",
        "print(multi_line_str)"
      ]
    },
    {
      "cell_type": "code",
      "execution_count": null,
      "id": "6ea64cc7",
      "metadata": {
        "id": "6ea64cc7"
      },
      "outputs": [],
      "source": [
        "# <--- Indexing in String --->\n",
        "str = \"Hello, World!\"\n",
        "\n",
        "print(str[0])      # Output: H (First character)\n",
        "\n",
        "# <--- Slicing in String --->\n",
        "str_1 = str[2:5]\n",
        "print(str_1)      # Output: llo (Characters from index 2 to 4)\n",
        "\n",
        "str_2 = str[:5]\n",
        "print(str_2)      # Output: Hello (Characters from start to index 4)\n",
        "\n",
        "str_3 = str[2:]\n",
        "print(str_3)      # Output: llo, World! (Characters from index 2 to end)\n",
        "\n",
        "str_4 = str[0:9:2]\n",
        "print(str_4)      # Output: Hlo ol! (Characters from index 0 to 8 with step 2)\n",
        "\n",
        "str_5 = str[::3]\n",
        "print(str_5)      # Output: Hl r! (Characters from start to end with step 3)"
      ]
    },
    {
      "cell_type": "code",
      "execution_count": null,
      "id": "af44e3ed",
      "metadata": {
        "id": "af44e3ed"
      },
      "outputs": [],
      "source": [
        "# <--- String methods in Python --->\n",
        "str = \"Hello, World!\"\n",
        "\n",
        "# Length\n",
        "print(len(str))  # Output: 13\n",
        "\n",
        "# String search\n",
        "print(\"World\" in str)  # Output: True\n",
        "\n",
        "# String lowercase\n",
        "print(str.lower())  # Output: \"hello, world!\"\n",
        "\n",
        "# String uppercase\n",
        "print(str.upper())  # Output: \"HELLO, WORLD!\"\n",
        "\n",
        "# String capitalize\n",
        "print(str.capitalize())  # Output: \"Hello, world!\"\n",
        "\n",
        "# String index find\n",
        "print(str.find(\"World\"))  # Output: 7\n",
        "\n",
        "# String reverse index find\n",
        "print(str.rfind(\"o\"))  # Output: 8\n",
        "\n",
        "# String count occurrences\n",
        "print(str.count(\"l\"))  # Output: 3\n",
        "\n",
        "# String replace\n",
        "print(str.replace(\"World\", \"Python\"))  # Output: \"Hello, Python!\"\n",
        "print(str)  # Original string remains unchanged (immutable)"
      ]
    },
    {
      "cell_type": "code",
      "execution_count": null,
      "id": "cc50ce5a",
      "metadata": {
        "id": "cc50ce5a"
      },
      "outputs": [],
      "source": [
        "# <--- String Splitting, Joining and Formatting in Python --->\n",
        "str = \"Hello, World!\"\n",
        "\n",
        "# String splitting\n",
        "print(str.split(\", \"))  # Output: ['Hello', 'World!']\n",
        "\n",
        "# String joining\n",
        "words = ['Hello', 'World!']\n",
        "print(\", \".join(words))  # Output: \"Hello, World!\"\n",
        "\n",
        "# String formatting\n",
        "name = \"Alice\"\n",
        "age = 30\n",
        "print(f\"My name is {name} and I am {age} years old.\")  # Output: \"My name is Alice and I am 30 years old.\""
      ]
    },
    {
      "cell_type": "code",
      "execution_count": null,
      "id": "2620cc75",
      "metadata": {
        "id": "2620cc75"
      },
      "outputs": [],
      "source": [
        "# <--- List and List methods in Python --->\n",
        "my_list = [1, 2, 3, 4, 5]\n",
        "\n",
        "print(my_list)  # Output: [1, 2, 3, 4, 5]\n",
        "print(type(my_list))  # Output: <class 'list'>\n",
        "\n",
        "# Changing value in list\n",
        "my_list[0] = 10\n",
        "print(my_list)  # Output: [10, 2, 3, 4, 5]\n",
        "\n",
        "# List slicing\n",
        "new_list = my_list[1:4]\n",
        "print(new_list)  # Output: [2, 3, 4]\n",
        "\n",
        "# Append to list\n",
        "my_list.append(6)\n",
        "print(my_list)  # Output: [10, 2, 3, 4, 5, 6]\n",
        "\n",
        "# Insert into list\n",
        "my_list.insert(1, 15)\n",
        "print(my_list)  # Output: [10, 15, 2, 3, 4, 5, 6]\n",
        "\n",
        "# Pop from list\n",
        "popped_value = my_list.pop()\n",
        "print(popped_value)  # Output: 6\n",
        "print(my_list)  # Output: [10, 15, 2, 3, 4, 5]\n",
        "\n",
        "# Remove from list\n",
        "my_list.remove(15)\n",
        "print(my_list)  # Output: [10, 2, 3, 4, 5]\n",
        "\n",
        "# Mixed data types in list\n",
        "mixed_list = [1, \"Hello\", 3.14, True]\n",
        "print(mixed_list)  # Output: [1, 'Hello', 3.14, True]\n",
        "\n",
        "# Sorting a list\n",
        "unsorted_list = [5, 2, 9, 1, 5, 6]\n",
        "unsorted_list.sort()\n",
        "print(unsorted_list)  # Output: [1, 2, 5, 5, 6, 9]\n",
        "\n",
        "# Reverse sorting a list\n",
        "unsorted_list.sort(reverse=True)\n",
        "print(unsorted_list)  # Output: [9, 6, 5, 5, 2, 1]"
      ]
    },
    {
      "cell_type": "code",
      "execution_count": null,
      "id": "959e8ba5",
      "metadata": {
        "id": "959e8ba5"
      },
      "outputs": [],
      "source": [
        "# <--- List as Stack in Python --->\n",
        "stack = []\n",
        "\n",
        "# Push elements onto the stack\n",
        "stack.append(1)\n",
        "stack.append(2)\n",
        "stack.append(3)\n",
        "print(stack)  # Output: [1, 2, 3]\n",
        "\n",
        "# Pop elements from the stack\n",
        "print(stack.pop())  # Output: 3\n",
        "print(stack)  # Output: [1, 2]\n",
        "\n",
        "# <--- List as Queue in Python --->\n",
        "queue = []\n",
        "\n",
        "# Enqueue elements into the queue\n",
        "queue.append(1)\n",
        "queue.append(2)\n",
        "queue.append(3)\n",
        "print(queue)  # Output: [1, 2, 3]\n",
        "\n",
        "# Dequeue elements from the queue\n",
        "print(queue.pop(0))  # Output: 1\n",
        "print(queue)  # Output: [2, 3]"
      ]
    },
    {
      "cell_type": "code",
      "execution_count": null,
      "id": "480dd96a",
      "metadata": {
        "id": "480dd96a"
      },
      "outputs": [],
      "source": [
        "# <--- List Comprehensions in Python --->\n",
        "\n",
        "# List comprehension to create a list of even numbers from 0 to 9\n",
        "even = [x for x in range(10) if x % 2 == 0]\n",
        "print(even)  # Output: [0, 2, 4, 6, 8]\n",
        "\n",
        "# List capitalization using list comprehension\n",
        "words = [\"hello\", \"world\", \"python\"]\n",
        "capitalized_words = [word.capitalize() for word in words]\n",
        "print(capitalized_words)  # Output: ['Hello', 'World', 'Python']"
      ]
    }
  ],
  "metadata": {
    "kernelspec": {
      "display_name": "Python 3",
      "language": "python",
      "name": "python3"
    },
    "language_info": {
      "codemirror_mode": {
        "name": "ipython",
        "version": 3
      },
      "file_extension": ".py",
      "mimetype": "text/x-python",
      "name": "python",
      "nbconvert_exporter": "python",
      "pygments_lexer": "ipython3",
      "version": "3.13.5"
    },
    "colab": {
      "provenance": [],
      "include_colab_link": true
    }
  },
  "nbformat": 4,
  "nbformat_minor": 5
}