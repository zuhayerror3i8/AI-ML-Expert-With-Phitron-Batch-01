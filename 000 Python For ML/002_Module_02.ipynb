{
  "cells": [
    {
      "cell_type": "markdown",
      "metadata": {
        "id": "view-in-github",
        "colab_type": "text"
      },
      "source": [
        "<a href=\"https://colab.research.google.com/github/zuhayerror3i8/AI-ML-Expert-With-Phitron-Batch-01/blob/main/000%20Python%20For%20ML/002_Module_02.ipynb\" target=\"_parent\"><img src=\"https://colab.research.google.com/assets/colab-badge.svg\" alt=\"Open In Colab\"/></a>"
      ]
    },
    {
      "cell_type": "markdown",
      "id": "a15391c0",
      "metadata": {
        "id": "a15391c0"
      },
      "source": [
        "# Module 2 — Control Flow in Python"
      ]
    },
    {
      "cell_type": "code",
      "execution_count": null,
      "id": "a70b46b7",
      "metadata": {
        "id": "a70b46b7"
      },
      "outputs": [],
      "source": [
        "# <--- Conditional statements in Python --->\n",
        "raining = True\n",
        "muddy = True\n",
        "\n",
        "if raining == True:\n",
        "    print(\"Don't forget your umbrella!\")\n",
        "    if muddy == True:\n",
        "        print(\"Wear your boots!\")\n",
        "    else:\n",
        "        print(\"Wear your sneakers!\")\n",
        "else:\n",
        "    print(\"Enjoy the sunshine!\")\n",
        "    print(\"It's a beautiful day!\")\n",
        "\n",
        "# <--- Another example of conditional statements in Python --->\n",
        "money = 1000\n",
        "\n",
        "if money > 500:\n",
        "    print(\"Let's go shopping!\")\n",
        "elif money < 100:\n",
        "    print(\"Let's save some money.\")\n",
        "else:\n",
        "    print(\"Let's go for a walk!\")"
      ]
    },
    {
      "cell_type": "code",
      "execution_count": null,
      "id": "44fd12de",
      "metadata": {
        "id": "44fd12de"
      },
      "outputs": [],
      "source": [
        "# <--- Loops in Python --->\n",
        "for i in range(5):\n",
        "    print(i, \"Hello World!\")\n",
        "\n",
        "list(range(5))\n",
        "\n",
        "# <--- Parameters in range() function --->\n",
        "for i in range(2, 10, 2):     # start, stop, step\n",
        "    print(i, \"range() function!\")\n",
        "\n",
        "# <--- Nested loops in Python --->\n",
        "for i in range(3):\n",
        "    for j in range(2):\n",
        "        print(i, j, \"Nested loop\")\n",
        "\n",
        "# <--- While loop in Python --->\n",
        "count = 0\n",
        "\n",
        "while count < 5:\n",
        "    print(count, \"While loop\")\n",
        "    count += 1"
      ]
    },
    {
      "cell_type": "code",
      "execution_count": null,
      "id": "c508dcd9",
      "metadata": {
        "id": "c508dcd9"
      },
      "outputs": [],
      "source": [
        "# <--- Break statement in loops --->\n",
        "for i in range(10):\n",
        "    if i == 5:\n",
        "        print(i, \"Breaking the loop\")\n",
        "        break\n",
        "    print(i, \"Continuing the loop\")\n",
        "\n",
        "# <--- Continue statement in loops --->\n",
        "for i in range(10):\n",
        "    if i % 2 == 0:\n",
        "        continue\n",
        "    print(i, \"Odd number\")"
      ]
    },
    {
      "cell_type": "markdown",
      "id": "abd041af",
      "metadata": {
        "id": "abd041af"
      },
      "source": [
        "## Problem 1: Min Max"
      ]
    },
    {
      "cell_type": "code",
      "execution_count": null,
      "id": "c0e71ef5",
      "metadata": {
        "id": "c0e71ef5"
      },
      "outputs": [],
      "source": [
        "# Will be given 3 numbers in the same line, we have to find the minimum and maximum number among them.\n",
        "\n",
        "x = input()\n",
        "\n",
        "nums = x.split()\n",
        "\n",
        "x = int(nums[0])\n",
        "y = int(nums[1])\n",
        "z = int(nums[2])\n",
        "\n",
        "min = x\n",
        "max = x\n",
        "\n",
        "if y < min:\n",
        "    min = y\n",
        "if z < min:\n",
        "    min = z\n",
        "\n",
        "if y > max:\n",
        "    max = y\n",
        "if z > max:\n",
        "    max = z\n",
        "\n",
        "print(min, max)"
      ]
    },
    {
      "cell_type": "markdown",
      "id": "c64c2e6c",
      "metadata": {
        "id": "c64c2e6c"
      },
      "source": [
        "## Problem 2: Even, Odd, Positive and Negative"
      ]
    },
    {
      "cell_type": "code",
      "execution_count": null,
      "id": "c3d4260e",
      "metadata": {
        "id": "c3d4260e"
      },
      "outputs": [],
      "source": [
        "# Will be given N. & in the next line N numbers will be given. We have to find how many numbers are even, odd, positive and negative.\n",
        "\n",
        "n = int(input())\n",
        "\n",
        "x = input()\n",
        "\n",
        "nums = x.split()\n",
        "\n",
        "even_count = 0\n",
        "odd_count = 0\n",
        "positive_count = 0\n",
        "negative_count = 0\n",
        "\n",
        "for num in nums:\n",
        "    num = int(num)\n",
        "    if num % 2 == 0:\n",
        "        even_count += 1\n",
        "    else:\n",
        "        odd_count += 1\n",
        "    if num > 0:\n",
        "        positive_count += 1\n",
        "    elif num < 0:\n",
        "        negative_count += 1\n",
        "\n",
        "print(\"Even:\", even_count)\n",
        "print(\"Odd:\", odd_count)\n",
        "print(\"Positive:\", positive_count)\n",
        "print(\"Negative:\", negative_count)"
      ]
    },
    {
      "cell_type": "markdown",
      "id": "3e69bcd9",
      "metadata": {
        "id": "3e69bcd9"
      },
      "source": [
        "## Problem 3: Digits"
      ]
    },
    {
      "cell_type": "code",
      "execution_count": null,
      "id": "bdf9e51a",
      "metadata": {
        "id": "bdf9e51a"
      },
      "outputs": [],
      "source": [
        "# T number of test cases will be given. In each test case, a number N will be given. We have to print the digits of the number from right to left separated by space.\n",
        "\n",
        "t = int(input())\n",
        "\n",
        "for i in range(t):\n",
        "    num = int(input())\n",
        "    if num == 0:\n",
        "        print(0)\n",
        "        continue\n",
        "    while num > 0:\n",
        "        print(num % 10, end=\" \")\n",
        "        num //= 10\n",
        "    print()"
      ]
    }
  ],
  "metadata": {
    "kernelspec": {
      "display_name": "Python 3",
      "language": "python",
      "name": "python3"
    },
    "language_info": {
      "codemirror_mode": {
        "name": "ipython",
        "version": 3
      },
      "file_extension": ".py",
      "mimetype": "text/x-python",
      "name": "python",
      "nbconvert_exporter": "python",
      "pygments_lexer": "ipython3",
      "version": "3.13.5"
    },
    "colab": {
      "provenance": [],
      "include_colab_link": true
    }
  },
  "nbformat": 4,
  "nbformat_minor": 5
}