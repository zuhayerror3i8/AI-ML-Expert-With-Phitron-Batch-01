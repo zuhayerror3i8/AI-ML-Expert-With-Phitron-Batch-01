{
  "cells": [
    {
      "cell_type": "markdown",
      "metadata": {
        "id": "view-in-github",
        "colab_type": "text"
      },
      "source": [
        "<a href=\"https://colab.research.google.com/github/zuhayerror3i8/AI-ML-Expert-With-Phitron-Batch-01/blob/main/000%20Python%20For%20ML/001_Module_1_1.ipynb\" target=\"_parent\"><img src=\"https://colab.research.google.com/assets/colab-badge.svg\" alt=\"Open In Colab\"/></a>"
      ]
    },
    {
      "cell_type": "markdown",
      "id": "15c5c382",
      "metadata": {
        "id": "15c5c382"
      },
      "source": [
        "# Module 1.1 — Python Basics"
      ]
    },
    {
      "cell_type": "code",
      "execution_count": null,
      "id": "3fa0c153",
      "metadata": {
        "id": "3fa0c153"
      },
      "outputs": [],
      "source": [
        "# <--- Variables --->\n",
        "phone_number = 123   # int\n",
        "name = \"PHiTRON\"     # str\n",
        "flt_num = 1.3        # float\n",
        "is_passed = True     # bool\n",
        "\n",
        "print(phone_number)\n",
        "print(name)\n",
        "print(flt_num)\n",
        "print(is_passed)\n",
        "\n",
        "# <--- Data types --->\n",
        "print(type(phone_number))\n",
        "print(type(name))\n",
        "print(type(flt_num))\n",
        "print(type(is_passed))"
      ]
    },
    {
      "cell_type": "code",
      "execution_count": null,
      "id": "a3978b54",
      "metadata": {
        "id": "a3978b54"
      },
      "outputs": [],
      "source": [
        "# <--- Taking input in Python --->\n",
        "name = input(\"Your name? \")\n",
        "age = input(\"Age? \")\n",
        "\n",
        "print(name)\n",
        "print(age, type(age))          # str\n",
        "\n",
        "age = int(age)\n",
        "print(age, type(age))          # int\n",
        "\n",
        "age_int = int(input(\"Age? \"))\n",
        "print(age, type(age_int))      # int"
      ]
    },
    {
      "cell_type": "code",
      "execution_count": null,
      "id": "aba241f4",
      "metadata": {
        "id": "aba241f4"
      },
      "outputs": [],
      "source": [
        "# <--- Operators in Python --->\n",
        "x = 10\n",
        "y = 13\n",
        "\n",
        "# Arithmetic Operators\n",
        "res_sum = x + y  # summation\n",
        "res_sub = x - y  # substraction\n",
        "res_mul = x * y  # multiplication\n",
        "res_div = x / y  # division\n",
        "\n",
        "res_rem = x % y  # remainder\n",
        "\n",
        "print(res_sum, res_sub, res_mul, res_div, res_rem)\n",
        "\n",
        "# Comparison Operators\n",
        "greater_than = x > y  # False\n",
        "less_than = x < y     # True\n",
        "greater_eq = x >= y   # False\n",
        "less_eq = x <= y      # True\n",
        "equal = x == y        # False\n",
        "not_equal = x != y    # True\n",
        "\n",
        "print(greater_than, less_than, greater_eq, less_eq, equal, not_equal)\n",
        "\n",
        "# Logical Operators\n",
        "and_op = (x > y) and (x == 10)  # False\n",
        "or_op = (x < y) or (x == 10)    # True\n",
        "\n",
        "print(and_op, or_op)"
      ]
    },
    {
      "cell_type": "code",
      "execution_count": null,
      "id": "492fb707",
      "metadata": {
        "id": "492fb707"
      },
      "outputs": [],
      "source": [
        "# <--- Precedence & Associativity --->\n",
        "eq_1 = 10 + 10 / 2 - 5 * 2\n",
        "eq_2 = (10 + 10) / (2 - 5) * 2\n",
        "eq_3 = 10 + 10 / 2 - 5 * 2 + 3 - 8 / 4\n",
        "\n",
        "print(eq_1)\n",
        "print(eq_2)\n",
        "print(eq_3)"
      ]
    },
    {
      "cell_type": "markdown",
      "id": "65f5ccdc",
      "metadata": {
        "id": "65f5ccdc"
      },
      "source": [
        "## Problem: Digit Summation"
      ]
    },
    {
      "cell_type": "code",
      "execution_count": null,
      "id": "4b3dae65",
      "metadata": {
        "id": "4b3dae65"
      },
      "outputs": [],
      "source": [
        "# Will be given 2 numbers in the same line, we have to print the summation of the last digit of both numbers.\n",
        "\n",
        "x = input()\n",
        "\n",
        "nums = x.split()\n",
        "\n",
        "x = int(nums[0])\n",
        "y = int(nums[1])\n",
        "\n",
        "last_digit_x = x % 10\n",
        "last_digit_y = y % 10\n",
        "\n",
        "summation = last_digit_x + last_digit_y\n",
        "print(summation)"
      ]
    }
  ],
  "metadata": {
    "kernelspec": {
      "display_name": "Python 3",
      "language": "python",
      "name": "python3"
    },
    "language_info": {
      "codemirror_mode": {
        "name": "ipython",
        "version": 3
      },
      "file_extension": ".py",
      "mimetype": "text/x-python",
      "name": "python",
      "nbconvert_exporter": "python",
      "pygments_lexer": "ipython3",
      "version": "3.13.5"
    },
    "colab": {
      "provenance": [],
      "include_colab_link": true
    }
  },
  "nbformat": 4,
  "nbformat_minor": 5
}