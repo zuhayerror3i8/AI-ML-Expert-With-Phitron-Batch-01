{
  "cells": [
    {
      "cell_type": "markdown",
      "metadata": {
        "id": "view-in-github",
        "colab_type": "text"
      },
      "source": [
        "<a href=\"https://colab.research.google.com/github/zuhayerror3i8/AI-ML-Expert-With-Phitron-Batch-01/blob/main/000%20Python%20For%20ML/007_Module_07.ipynb\" target=\"_parent\"><img src=\"https://colab.research.google.com/assets/colab-badge.svg\" alt=\"Open In Colab\"/></a>"
      ]
    },
    {
      "cell_type": "markdown",
      "id": "fa00eccb",
      "metadata": {
        "id": "fa00eccb"
      },
      "source": [
        "# Module 7 — File Handling and Exception Handling"
      ]
    },
    {
      "cell_type": "code",
      "execution_count": null,
      "id": "820093f0",
      "metadata": {
        "id": "820093f0"
      },
      "outputs": [],
      "source": [
        "# <--- Read Files in Python --->\n",
        "file = open(\"example.txt\", \"r\")\n",
        "\n",
        "# 1st method to read file\n",
        "\n",
        "# content = file.read()\n",
        "# print(content)\n",
        "\n",
        "content_lines = file.readlines()\n",
        "content_lines = list(map(str.strip, content_lines))  # Remove newline characters\n",
        "filter_content = list(filter(lambda x: len(x) >= 1, content_lines))  # Filter out empty lines\n",
        "print(filter_content)\n",
        "\n",
        "file.close()\n",
        "\n",
        "print(file.closed)\n",
        "\n",
        "# 2nd method to read file\n",
        "with open(\"example.txt\", \"r\") as file:\n",
        "    # content = file.read()\n",
        "    # print(content)\n",
        "\n",
        "    content_lines = file.readlines()\n",
        "    content_lines = list(map(str.strip, content_lines))  # Remove newline characters\n",
        "    filter_content = list(filter(lambda x: len(x) >= 1, content_lines))  # Filter out empty lines\n",
        "    print(filter_content)\n",
        "\n",
        "print(file.closed)\n",
        "\n",
        "# 3rd method to read file\n",
        "with open(\"example.txt\", \"r\") as file:\n",
        "    for line in file:\n",
        "        print(line, end=\"\")\n",
        "        # l = line.strip()\n",
        "        # print(l)"
      ]
    },
    {
      "cell_type": "code",
      "execution_count": null,
      "id": "979ac541",
      "metadata": {
        "id": "979ac541"
      },
      "outputs": [],
      "source": [
        "file = open(\"example.txt\",\"r\")\n",
        "\n",
        "content = file.readlines()\n",
        "\n",
        "content = list(map(str.strip,content))\n",
        "\n",
        "filter_content = list(filter(lambda x : len(x)>=1,content))\n",
        "\n",
        "print(content)"
      ]
    },
    {
      "cell_type": "code",
      "execution_count": null,
      "id": "bfb316bf",
      "metadata": {
        "id": "bfb316bf"
      },
      "outputs": [],
      "source": [
        "# <--- Write Files in Python --->\n",
        "\n",
        "# Create a new file and write to it\n",
        "with open(\"example_write.txt\", \"w\") as file:\n",
        "    file.write(\"Hello\\nWorld\\n\")\n",
        "\n",
        "# Write over an existing file\n",
        "with open(\"example_write.txt\", \"w\") as file:\n",
        "    file.write(\"New Content\\nOverwritten\\n\")\n",
        "\n",
        "# Append to an existing file\n",
        "with open(\"example_write.txt\", \"a\") as file:\n",
        "    file.write(\"Appended Content\\n\")\n",
        "\n",
        "# List of strings to write\n",
        "strings = [\"Line 1\", \"Line 2\", \"Line 3\"]\n",
        "\n",
        "# Write multiple lines to a file\n",
        "with open(\"example_write.txt\", \"a\") as file:\n",
        "    for s in strings:\n",
        "        file.write(s + \"\\n\")"
      ]
    },
    {
      "cell_type": "code",
      "execution_count": null,
      "id": "1a7883ec",
      "metadata": {
        "id": "1a7883ec"
      },
      "outputs": [],
      "source": [
        "# <--- File Pointer in Python --->\n",
        "with open(\"example.txt\", \"r\") as file:\n",
        "    content = file.read(10)  # Read first 10 characters\n",
        "    print(content)\n",
        "\n",
        "    position = file.tell()  # Get current file pointer position\n",
        "    print(\"Current Position:\", position)\n",
        "\n",
        "    file.seek(0)  # Move file pointer back to the beginning\n",
        "    content = file.read(10)  # Read first 10 characters again\n",
        "    print(content)"
      ]
    },
    {
      "cell_type": "markdown",
      "id": "18696898",
      "metadata": {
        "id": "18696898"
      },
      "source": [
        "## Practice 1:"
      ]
    },
    {
      "cell_type": "code",
      "execution_count": null,
      "id": "9b2f86dc",
      "metadata": {
        "id": "9b2f86dc"
      },
      "outputs": [],
      "source": [
        "# Get the text from sample.txt, and count the following:\n",
        "# - Number of lines.\n",
        "# - Number of words.\n",
        "# - Number of characters (excluding spaces and newlines).\n",
        "# & save it to the counter_of_string.txt file.\n",
        "with open(\"sample.txt\", \"r\") as file:\n",
        "    content = file.readlines()\n",
        "    num_lines = len(content)\n",
        "    num_words = sum(len(line.split()) for line in content)\n",
        "    num_characters = sum(len(line.replace(\" \", \"\").replace(\"\\n\", \"\")) for line in content)\n",
        "\n",
        "with open(\"counter_of_string.txt\", \"w\") as output_file:\n",
        "    output_file.write(f\"Number of Lines: {num_lines}\\n\")\n",
        "    output_file.write(f\"Number of Words: {num_words}\\n\")\n",
        "    output_file.write(f\"Number of Characters: {num_characters}\")"
      ]
    },
    {
      "cell_type": "markdown",
      "id": "9dede610",
      "metadata": {
        "id": "9dede610"
      },
      "source": [
        "## Practice 2:"
      ]
    },
    {
      "cell_type": "code",
      "execution_count": null,
      "id": "a3bd08eb",
      "metadata": {
        "id": "a3bd08eb"
      },
      "outputs": [],
      "source": [
        "# Write then read with one open\n",
        "with open(\"read_write.txt\", \"w+\") as file:\n",
        "    file.write(\"Hello World!\\nWelcome to File Handling in Python.\")\n",
        "    file.seek(0)  # Move the pointer back to the beginning of the file\n",
        "    content = file.read()\n",
        "    print(content)\n",
        "\n",
        "    file.truncate(1)  # Truncate the file to 1 byte\n",
        "    file.seek(0)  # Move the pointer back to the beginning of the file\n",
        "    content = file.read()  # Read the truncated content\n",
        "    print(content)"
      ]
    },
    {
      "cell_type": "code",
      "execution_count": null,
      "id": "5e648b6f",
      "metadata": {
        "id": "5e648b6f"
      },
      "outputs": [],
      "source": [
        "# <--- Exceptions in Python --->\n",
        "n = int(input())\n",
        "\n",
        "try:\n",
        "    result = 10 / n\n",
        "    print(\"Result:\", result)\n",
        "except ZeroDivisionError:\n",
        "    print(\"Error: Division by zero is not allowed.\")\n",
        "\n",
        "print(\"Program continues...\")\n",
        "\n",
        "try:\n",
        "    x = y\n",
        "except NameError as e:\n",
        "    print(\"Error:\", e)\n",
        "\n",
        "print(\"Program continues...\")\n",
        "\n",
        "try:\n",
        "    file = open(\"non_existent_file.txt\", \"r\")\n",
        "except Exception as e:\n",
        "    print(\"Error:\", e)\n",
        "else:\n",
        "    content = file.read()\n",
        "    print(content)\n",
        "    file.close()\n",
        "finally:\n",
        "    print(\"Execution completed.\")"
      ]
    }
  ],
  "metadata": {
    "kernelspec": {
      "display_name": "Python 3",
      "language": "python",
      "name": "python3"
    },
    "language_info": {
      "codemirror_mode": {
        "name": "ipython",
        "version": 3
      },
      "file_extension": ".py",
      "mimetype": "text/x-python",
      "name": "python",
      "nbconvert_exporter": "python",
      "pygments_lexer": "ipython3",
      "version": "3.13.5"
    },
    "colab": {
      "provenance": [],
      "include_colab_link": true
    }
  },
  "nbformat": 4,
  "nbformat_minor": 5
}