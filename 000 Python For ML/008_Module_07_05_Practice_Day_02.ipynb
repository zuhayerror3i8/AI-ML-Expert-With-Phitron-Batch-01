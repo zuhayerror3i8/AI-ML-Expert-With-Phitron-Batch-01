{
  "cells": [
    {
      "cell_type": "markdown",
      "metadata": {
        "id": "view-in-github",
        "colab_type": "text"
      },
      "source": [
        "<a href=\"https://colab.research.google.com/github/zuhayerror3i8/AI-ML-Expert-With-Phitron-Batch-01/blob/main/000%20Python%20For%20ML/008_Module_07_05_Practice_Day_02.ipynb\" target=\"_parent\"><img src=\"https://colab.research.google.com/assets/colab-badge.svg\" alt=\"Open In Colab\"/></a>"
      ]
    },
    {
      "cell_type": "markdown",
      "id": "2fa8ca73",
      "metadata": {
        "id": "2fa8ca73"
      },
      "source": [
        "# Module 7.5 — Practice Day 2"
      ]
    },
    {
      "cell_type": "markdown",
      "id": "c7b05199",
      "metadata": {
        "id": "c7b05199"
      },
      "source": [
        "## Problem 1: Common Friends (Set Operations)"
      ]
    },
    {
      "cell_type": "markdown",
      "id": "9d20fa1b",
      "metadata": {
        "id": "9d20fa1b"
      },
      "source": [
        "```\n",
        "Problem:\n",
        "    Given two sets of friends from two people, find the mutual friends unique friends of each, and the total number of unique friends.\n",
        "\n",
        "Example Input:\n",
        "    a_friends = {\"Rahim\", \"Karim\", \"Sakib\", \"Jamal\"}\n",
        "    b_friends = {\"Sakib\", \"Jamal\", \"Rafiq\", \"Nadim\"}\n",
        "\n",
        "Expected Output:\n",
        "    Mutual friends: {'Sakib', 'Jamal'}\n",
        "    Unique to A: {'Rahim', 'Karim'}\n",
        "    Unique to B: {'Rafiq', 'Nadim'}\n",
        "    Total unique friends: 6\n",
        "```"
      ]
    },
    {
      "cell_type": "code",
      "execution_count": null,
      "id": "b983f5b1",
      "metadata": {
        "id": "b983f5b1"
      },
      "outputs": [],
      "source": [
        "a_friends = set(input().split())\n",
        "b_friends = set(input().split())\n",
        "\n",
        "mutual = a_friends & b_friends\n",
        "unique_a = a_friends - b_friends\n",
        "unique_b = b_friends - a_friends\n",
        "total_unique = len(a_friends | b_friends)\n",
        "\n",
        "print(f\"Mutual friends: {mutual}\")\n",
        "print(f\"Unique to A: {unique_a}\")\n",
        "print(f\"Unique to B: {unique_b}\")\n",
        "print(f\"Total unique friends: {total_unique}\")"
      ]
    },
    {
      "cell_type": "markdown",
      "id": "1a6827d9",
      "metadata": {
        "id": "1a6827d9"
      },
      "source": [
        "## Problem 2: Sort Students by Marks (Tuple + Dictionary)"
      ]
    },
    {
      "cell_type": "markdown",
      "id": "ffd7b67e",
      "metadata": {
        "id": "ffd7b67e"
      },
      "source": [
        "```\n",
        "Problem:\n",
        "    You are given a list of tuples — each containing a student’s name and mark.\n",
        "    Sort them in descending order of marks and print the top 3 scorers.\n",
        "\n",
        "Example Input:\n",
        "    students = [(\"Rafi\", 89), (\"Sumi\", 95), (\"Hasan\", 90), (\"Nila\", 75), (\"Anik\", 98)]\n",
        "\n",
        "Expected Output:\n",
        "    Top 3 students:\n",
        "    Anik - 98\n",
        "    Sumi - 95\n",
        "    Hasan - 90\n",
        "```"
      ]
    },
    {
      "cell_type": "code",
      "execution_count": null,
      "id": "9c73b988",
      "metadata": {
        "id": "9c73b988"
      },
      "outputs": [],
      "source": [
        "n = int(input())\n",
        "\n",
        "students = []\n",
        "\n",
        "for i in range(n):\n",
        "    line = input().rstrip()\n",
        "    name, mark = line.rsplit(' ', 1)\n",
        "    students.append((name, int(mark)))\n",
        "\n",
        "students.sort(key=lambda x: x[1], reverse=True)\n",
        "\n",
        "print(\"Top 3 students:\")\n",
        "for name, mark in students[:3]:\n",
        "    print(f\"{name} - {mark}\")"
      ]
    },
    {
      "cell_type": "markdown",
      "id": "47653e1f",
      "metadata": {
        "id": "47653e1f"
      },
      "source": [
        "## Problem 3: Word Length Filter (Lambda + Filter)"
      ]
    },
    {
      "cell_type": "markdown",
      "id": "8fa85c9c",
      "metadata": {
        "id": "8fa85c9c"
      },
      "source": [
        "```\n",
        "Problem:\n",
        "    Given a list of words, use filter() and lambda to return only words whose length is greater than 4.\n",
        "\n",
        "Example Input:\n",
        "    words = [\"sun\", \"planet\", \"moon\", \"star\", \"universe\"]\n",
        "\n",
        "Expected Output:\n",
        "    ['planet', 'universe']\n",
        "```"
      ]
    },
    {
      "cell_type": "code",
      "execution_count": null,
      "id": "92247f2c",
      "metadata": {
        "id": "92247f2c"
      },
      "outputs": [],
      "source": [
        "words = input().split()\n",
        "\n",
        "result = list(filter(lambda w: len(w) > 4, words))\n",
        "\n",
        "print(result)"
      ]
    },
    {
      "cell_type": "markdown",
      "id": "ff17883a",
      "metadata": {
        "id": "ff17883a"
      },
      "source": [
        "## Problem 4: Square of Even Numbers (Map + Filter + Lambda)"
      ]
    },
    {
      "cell_type": "markdown",
      "id": "20ebc6c5",
      "metadata": {
        "id": "20ebc6c5"
      },
      "source": [
        "```\n",
        "Problem:\n",
        "    Write a one-line Python expression using map(), filter(), and lambda that takes a list of integers and returns the squares of even numbers only.\n",
        "\n",
        "Example Input:\n",
        "    nums = [1, 2, 3, 4, 5, 6]\n",
        "\n",
        "Expected Output:\n",
        "    [4, 16, 36]\n",
        "```"
      ]
    },
    {
      "cell_type": "code",
      "execution_count": null,
      "id": "a0a028a3",
      "metadata": {
        "id": "a0a028a3"
      },
      "outputs": [],
      "source": [
        "print(list(map(lambda x: x*x, filter(lambda x: x%2==0, map(int, input().split())))))"
      ]
    },
    {
      "cell_type": "markdown",
      "id": "92f11955",
      "metadata": {
        "id": "92f11955"
      },
      "source": [
        "## Problem 5: Write and Read a File"
      ]
    },
    {
      "cell_type": "markdown",
      "id": "0eeb5c1c",
      "metadata": {
        "id": "0eeb5c1c"
      },
      "source": [
        "```\n",
        "Problem:\n",
        "    Write a Python program to:\n",
        "        1. Create a text file named data.txt\n",
        "        2. Write “Learning Python is fun!” into it.\n",
        "        3. Read the file and print its content.\n",
        "```"
      ]
    },
    {
      "cell_type": "code",
      "execution_count": null,
      "id": "881ceab9",
      "metadata": {
        "id": "881ceab9"
      },
      "outputs": [],
      "source": [
        "with open(\"data.txt\", \"w\") as file:\n",
        "    file.write(\"Learning Python is fun!\")\n",
        "\n",
        "with open(\"data.txt\", \"r\") as file:\n",
        "    print(file.read())"
      ]
    },
    {
      "cell_type": "markdown",
      "id": "f8e58854",
      "metadata": {
        "id": "f8e58854"
      },
      "source": [
        "## Problem 6: Count Lines in a File"
      ]
    },
    {
      "cell_type": "markdown",
      "id": "d93fb1c3",
      "metadata": {
        "id": "d93fb1c3"
      },
      "source": [
        "```\n",
        "Problem:\n",
        "    Write a Python program to count how many lines are in a text file named story.txt.\n",
        "    If the file does not exist, handle the exception and print an error message, otherwise read the text file ( test it with both conditions ). Print a message finally.\n",
        "```"
      ]
    },
    {
      "cell_type": "code",
      "execution_count": null,
      "id": "2cc96236",
      "metadata": {
        "id": "2cc96236"
      },
      "outputs": [],
      "source": [
        "try:\n",
        "    f = open(\"story.txt\", \"r\")\n",
        "    line_count = 0\n",
        "    for i in f:\n",
        "        line_count += 1\n",
        "    f.close()\n",
        "except FileNotFoundError:\n",
        "    print(\"Error: story.txt not found\")\n",
        "else:\n",
        "    print(f\"Number of lines: {line_count}\")\n",
        "finally:\n",
        "    print(\"Finished.\")"
      ]
    }
  ],
  "metadata": {
    "kernelspec": {
      "display_name": "Python 3",
      "language": "python",
      "name": "python3"
    },
    "language_info": {
      "codemirror_mode": {
        "name": "ipython",
        "version": 3
      },
      "file_extension": ".py",
      "mimetype": "text/x-python",
      "name": "python",
      "nbconvert_exporter": "python",
      "pygments_lexer": "ipython3",
      "version": "3.13.5"
    },
    "colab": {
      "provenance": [],
      "include_colab_link": true
    }
  },
  "nbformat": 4,
  "nbformat_minor": 5
}