{
  "cells": [
    {
      "cell_type": "markdown",
      "metadata": {
        "id": "view-in-github",
        "colab_type": "text"
      },
      "source": [
        "<a href=\"https://colab.research.google.com/github/zuhayerror3i8/AI-ML-Expert-With-Phitron-Batch-01/blob/main/000%20Python%20For%20ML/011_Module_09_Assignment_01.ipynb\" target=\"_parent\"><img src=\"https://colab.research.google.com/assets/colab-badge.svg\" alt=\"Open In Colab\"/></a>"
      ]
    },
    {
      "cell_type": "markdown",
      "id": "60bf86a4",
      "metadata": {
        "id": "60bf86a4"
      },
      "source": [
        "# Module 9 — Assignment 1"
      ]
    },
    {
      "cell_type": "markdown",
      "id": "7fafdca1",
      "metadata": {
        "id": "7fafdca1"
      },
      "source": [
        "```\n",
        "Using filter() and lambda, extract even numbers from a given list.\n",
        "\n",
        "Input Format:\n",
        "    Integers separated by space.\n",
        "Output Format:\n",
        "    List of even integers.\n",
        "\n",
        "Example:\n",
        "    Input:\n",
        "        5 6 7 8 9 10\n",
        "    Output:\n",
        "        [6, 8, 10]\n",
        "```"
      ]
    },
    {
      "cell_type": "code",
      "execution_count": null,
      "id": "3d5fe1aa",
      "metadata": {
        "id": "3d5fe1aa"
      },
      "outputs": [],
      "source": [
        "nums_str = input().split()\n",
        "\n",
        "res_evens = list(filter(lambda x: int(x) % 2 == 0, nums_str))\n",
        "res_evens = [int(x) for x in res_evens]\n",
        "\n",
        "print(res_evens)"
      ]
    },
    {
      "cell_type": "markdown",
      "id": "b93cbb31",
      "metadata": {
        "id": "b93cbb31"
      },
      "source": [
        "```\n",
        "Write a function safe_divide(a,b) that performs a/b and handles division by zero using try–except.\n",
        "\n",
        "Print \"Division by zero\" if b = 0.\n",
        "\n",
        "Input Format:\n",
        "    Two integers a b.\n",
        "Output Format:\n",
        "    Result or error message.\n",
        "\n",
        "Example:\n",
        "    Input:\n",
        "        10 0  \n",
        "    Output:\n",
        "        Division by zero\n",
        "```"
      ]
    },
    {
      "cell_type": "code",
      "execution_count": null,
      "id": "b14e13c4",
      "metadata": {
        "id": "b14e13c4"
      },
      "outputs": [],
      "source": [
        "def safe_divide(a, b):\n",
        "    try:\n",
        "        print(a / b)\n",
        "    except ZeroDivisionError:\n",
        "        print(\"Division by zero\")\n",
        "\n",
        "a_str, b_str = input().split()\n",
        "\n",
        "safe_divide(int(a_str), int(b_str))"
      ]
    },
    {
      "cell_type": "markdown",
      "id": "05f62c76",
      "metadata": {
        "id": "05f62c76"
      },
      "source": [
        "```\n",
        "Create a base class Shape with a method area() that returns 0.\n",
        "\n",
        "Create subclasses:\n",
        "    Rectangle(w,h) → area = w × h\n",
        "    Circle(r) → area = π × r²\n",
        "\n",
        "\n",
        "Read shape type and parameters, then print area (rounded to 2 decimals).\n",
        "\n",
        "Input Format 1:\n",
        "    Rectangle 5 10\n",
        "Output Format 1:\n",
        "    Area: 50.00\n",
        "\n",
        "Input Format 2:\n",
        "    Circle 7\n",
        "Output Format 2:\n",
        "    Area: 153.94\n",
        "```"
      ]
    },
    {
      "cell_type": "code",
      "execution_count": null,
      "id": "50534a98",
      "metadata": {
        "id": "50534a98"
      },
      "outputs": [],
      "source": [
        "class Shape:\n",
        "    def area(self):\n",
        "        return 0\n",
        "\n",
        "class Rectangle(Shape):\n",
        "    def __init__(self, w, h):\n",
        "        self.w = w\n",
        "        self.h = h\n",
        "    def area(self):\n",
        "        return self.w * self.h\n",
        "\n",
        "class Circle(Shape):\n",
        "    def __init__(self, r):\n",
        "        self.r = r\n",
        "    def area(self):\n",
        "        return 3.1416 * self.r ** 2\n",
        "\n",
        "inp_str = input().split()\n",
        "\n",
        "if inp_str[0].lower() == \"rectangle\":\n",
        "    shape = Rectangle(float(inp_str[1]), float(inp_str[2]))\n",
        "else:\n",
        "    shape = Circle(float(inp_str[1]))\n",
        "\n",
        "print(f\"Area: {shape.area():.2f}\")"
      ]
    },
    {
      "cell_type": "markdown",
      "id": "07bab584",
      "metadata": {
        "id": "07bab584"
      },
      "source": [
        "```\n",
        "Find and print the longest word in a given sentence (if tie, print first one).\n",
        "\n",
        "Input Format:\n",
        "    One line string\n",
        "Output Format:\n",
        "    Longest word\n",
        "\n",
        "Example:\n",
        "    Input:\n",
        "        Python programming is enjoyable\n",
        "    Output:\n",
        "        programming\n",
        "```"
      ]
    },
    {
      "cell_type": "code",
      "execution_count": null,
      "id": "453679ae",
      "metadata": {
        "id": "453679ae"
      },
      "outputs": [],
      "source": [
        "sen_str = input().split()\n",
        "\n",
        "res_longest = sen_str[0]\n",
        "\n",
        "for i in sen_str:\n",
        "    if len(i) > len(res_longest):\n",
        "        res_longest = i\n",
        "\n",
        "print(res_longest)"
      ]
    },
    {
      "cell_type": "markdown",
      "id": "a2eb1823",
      "metadata": {
        "id": "a2eb1823"
      },
      "source": [
        "```\n",
        "A number is called strong if the sum of the factorial of its digits equals the number itself.\n",
        "\n",
        "Example: 145 = 1! + 4! + 5!\n",
        "\n",
        "Input Format:\n",
        "    Single integer\n",
        "Output Format:\n",
        "    \"Strong Number\" or \"Not Strong Number\"\n",
        "\n",
        "Example:\n",
        "    Input:\n",
        "        145\n",
        "    Output:\n",
        "        Strong Number\n",
        "```"
      ]
    },
    {
      "cell_type": "code",
      "execution_count": null,
      "id": "46658d1e",
      "metadata": {
        "id": "46658d1e"
      },
      "outputs": [],
      "source": [
        "num_str = input()\n",
        "\n",
        "num = int(num_str)\n",
        "\n",
        "res_sum_fact = 0\n",
        "\n",
        "for i in num_str:\n",
        "    res_fact = 1\n",
        "    for j in range(2, int(i)+1):\n",
        "        res_fact *= j\n",
        "    res_sum_fact += res_fact\n",
        "\n",
        "if res_sum_fact == num:\n",
        "    print(\"Strong Number\")\n",
        "else:\n",
        "    print(\"Not Strong Number\")"
      ]
    }
  ],
  "metadata": {
    "kernelspec": {
      "display_name": "Python 3",
      "language": "python",
      "name": "python3"
    },
    "language_info": {
      "codemirror_mode": {
        "name": "ipython",
        "version": 3
      },
      "file_extension": ".py",
      "mimetype": "text/x-python",
      "name": "python",
      "nbconvert_exporter": "python",
      "pygments_lexer": "ipython3",
      "version": "3.13.5"
    },
    "colab": {
      "provenance": [],
      "include_colab_link": true
    }
  },
  "nbformat": 4,
  "nbformat_minor": 5
}