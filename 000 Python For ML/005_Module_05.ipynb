{
  "cells": [
    {
      "cell_type": "markdown",
      "metadata": {
        "id": "view-in-github",
        "colab_type": "text"
      },
      "source": [
        "<a href=\"https://colab.research.google.com/github/zuhayerror3i8/AI-ML-Expert-With-Phitron-Batch-01/blob/main/000%20Python%20For%20ML/005_Module_05.ipynb\" target=\"_parent\"><img src=\"https://colab.research.google.com/assets/colab-badge.svg\" alt=\"Open In Colab\"/></a>"
      ]
    },
    {
      "cell_type": "markdown",
      "id": "661d28be",
      "metadata": {
        "id": "661d28be"
      },
      "source": [
        "# Module 5 — Tuples, Sets and Dictionary"
      ]
    },
    {
      "cell_type": "code",
      "execution_count": null,
      "id": "f371dde5",
      "metadata": {
        "id": "f371dde5"
      },
      "outputs": [],
      "source": [
        "# <--- Tuples in Python --->\n",
        "\n",
        "# Tuples are immutable sequences in Python.\n",
        "\n",
        "# Declaration and Initialization\n",
        "tup = (1, 2, 3, 4, 5)\n",
        "print(tup)            # Output: (1, 2, 3, 4, 5)\n",
        "print(type(tup))      # Output: <class 'tuple'>\n",
        "\n",
        "mixed_tup = (1, \"Hello\", 3.4)\n",
        "print(mixed_tup)      # Output: (1, 'Hello', 3.4)\n",
        "\n",
        "# List to Tuple Conversion\n",
        "list1 = [1, 2, 3, 4, 5]\n",
        "tup_from_list = tuple(list1)\n",
        "print(tup_from_list)  # Output: (1, 2, 3, 4, 5)\n",
        "\n",
        "# Accessing Tuple Elements\n",
        "print(tup[0])         # Output: 1\n",
        "print(tup[1:4])       # Output: (2, 3, 4)\n",
        "print(tup[-1])        # Output: 5\n",
        "print(tup[-3:-1])     # Output: (3, 4)\n",
        "print(tup[::2])       # Output: (1, 3, 5)"
      ]
    },
    {
      "cell_type": "code",
      "execution_count": null,
      "id": "48a75a0f",
      "metadata": {
        "id": "48a75a0f"
      },
      "outputs": [],
      "source": [
        "# <--- Tuple Methods in Python --->\n",
        "tup = (1, 2, 3, 4, 5)\n",
        "\n",
        "# Count Method\n",
        "print(tup.count(3))      # Output: 1\n",
        "print(tup.count(6))      # Output: 0\n",
        "\n",
        "# Index Method\n",
        "print(tup.index(4))      # Output: 3\n",
        "# print(tup.index(6))    # Raises ValueError"
      ]
    },
    {
      "cell_type": "code",
      "execution_count": null,
      "id": "6d604be9",
      "metadata": {
        "id": "6d604be9"
      },
      "outputs": [],
      "source": [
        "# <--- Sets in Python --->\n",
        "\n",
        "# Sets are unordered collections of unique elements.\n",
        "\n",
        "# Declaration and Initialization\n",
        "set1 = {1, 2, 3, 4, 5}\n",
        "print(set1)            # Output: {1, 2, 3, 4, 5}\n",
        "print(type(set1))      # Output: <class 'set'>\n",
        "\n",
        "mixed_set = {1, \"Hello\", 3.4}\n",
        "print(mixed_set)       # Output: {1, 'Hello', 3.4}\n",
        "\n",
        "# List to Set Conversion\n",
        "list1 = [1, 2, 3, 4, 5]\n",
        "set_from_list = set(list1)\n",
        "print(set_from_list)   # Output: {1, 2, 3, 4, 5}\n",
        "\n",
        "# Accessing Set Elements\n",
        "for elem in set1:\n",
        "    print(elem)"
      ]
    },
    {
      "cell_type": "code",
      "execution_count": null,
      "id": "5bf86752",
      "metadata": {
        "id": "5bf86752"
      },
      "outputs": [],
      "source": [
        "# <--- Set Methods in Python --->\n",
        "set1 = {1, 2, 3, 4, 5}\n",
        "\n",
        "# Add Method\n",
        "set1.add(6)\n",
        "print(set1)            # Output: {1, 2, 3, 4, 5, 6}\n",
        "\n",
        "# Remove Method\n",
        "set1.remove(4)\n",
        "print(set1)            # Output: {1, 2, 3, 5, 6}\n",
        "# set1.remove(7)       # Raises KeyError\n",
        "\n",
        "# Discard Method\n",
        "set1.discard(5)\n",
        "print(set1)            # Output: {1, 2, 3, 6}\n",
        "set1.discard(7)        # Does not raise an error\n",
        "\n",
        "# Pop Method\n",
        "elem = set1.pop()\n",
        "print(elem)            # Output: 1 (or 2, or 3, or 6)\n",
        "print(set1)            # Output: Remaining elements\n",
        "\n",
        "# Clear Method\n",
        "set1.clear()\n",
        "print(set1)            # Output: set()\n",
        "\n",
        "# Union Method\n",
        "setA = {1, 2, 3}\n",
        "setB = {3, 4, 5}\n",
        "setC = setA.union(setB)\n",
        "print(setC)                   # Output: {1, 2, 3, 4, 5}\n",
        "\n",
        "# Intersection Method\n",
        "setD = setA.intersection(setB)\n",
        "print(setD)                   # Output: {3}\n",
        "\n",
        "# Disjoint Method\n",
        "setE = {6, 7, 8}\n",
        "print(setA.isdisjoint(setE))  # Output: True\n",
        "\n",
        "# Subset Method\n",
        "setF = {1, 2}\n",
        "print(setF.issubset(setA))    # Output: True"
      ]
    },
    {
      "cell_type": "code",
      "execution_count": null,
      "id": "a157747e",
      "metadata": {
        "id": "a157747e"
      },
      "outputs": [],
      "source": [
        "# <--- Dictionary in Python --->\n",
        "dict1 = {\"name\": \"Alice\", \"age\": 25, \"city\": \"New York\"}\n",
        "\n",
        "print(dict1)               # Output: {'name': 'Alice', 'age': 25, 'city': 'New York'}\n",
        "print(type(dict1))         # Output: <class 'dict'>\n",
        "\n",
        "# Accessing Values\n",
        "print(dict1[\"name\"])       # Output: Alice\n",
        "print(dict1.get(\"age\"))    # Output: 25\n",
        "\n",
        "# Adding Key-Value Pairs\n",
        "dict1[\"email\"] = \"alice@example.com\"\n",
        "print(dict1)               # Output: {'name': 'Alice', 'age': 25, 'city': 'New York', 'email': 'alice@example.com'}\n",
        "\n",
        "dict1[\"age\"] = 26\n",
        "print(dict1)               # Output: {'name': 'Alice', 'age': 26, 'city': 'New York', 'email': 'alice@example.com'}"
      ]
    },
    {
      "cell_type": "code",
      "execution_count": null,
      "id": "b657b78d",
      "metadata": {
        "id": "b657b78d"
      },
      "outputs": [],
      "source": [
        "# <--- Dictionary Methods in Python --->\n",
        "dict1 = {\"name\": \"Alice\", \"age\": 25, \"city\": \"New York\"}\n",
        "\n",
        "# Default Method\n",
        "print(dict1.setdefault(\"country\", \"USA\"))  # Output: USA\n",
        "print(dict1)                               # Output: {'name': 'Alice', 'age': 25, 'city': 'New York', 'country': 'USA'}\n",
        "\n",
        "# Update Method\n",
        "dict1.update({\"age\": 26, \"email\": \"alice@example.com\"})\n",
        "print(dict1)               # Output: {'name': 'Alice', 'age': 26, 'city': 'New York', 'country': 'USA', 'email': 'alice@example.com'}\n",
        "\n",
        "# Del Method\n",
        "del dict1[\"city\"]\n",
        "print(dict1)               # Output: {'name': 'Alice', 'age': 26, 'country': 'USA', 'email': 'alice@example.com'}\n",
        "\n",
        "# Copy Method\n",
        "dict2 = dict1.copy()\n",
        "print(dict2)               # Output: {'name': 'Alice', 'age': 26, 'country': 'USA', 'email': 'alice@example.com'}"
      ]
    },
    {
      "cell_type": "code",
      "execution_count": null,
      "id": "46778bd4",
      "metadata": {
        "id": "46778bd4"
      },
      "outputs": [],
      "source": [
        "# <--- Dictionary View Methods in Python --->\n",
        "dict1 = {\"name\": \"Alice\", \"age\": 25, \"city\": \"New York\"}\n",
        "\n",
        "# Keys Method\n",
        "keys = dict1.keys()\n",
        "print(keys)               # Output: dict_keys(['name', 'age', 'city'])\n",
        "\n",
        "dict1[\"country\"] = \"USA\"  # Adding a new key-value pair\n",
        "print(keys)               # Output: dict_keys(['name', 'age', 'city', 'country'])\n",
        "\n",
        "# Values Method\n",
        "values = dict1.values()\n",
        "print(values)             # Output: dict_values(['Alice', 25, 'New York', 'USA'])\n",
        "\n",
        "dict1[\"email\"] = \"alice@example.com\"\n",
        "print(values)             # Output: dict_values(['Alice', 25, 'New York', 'USA', 'alice@example.com'])\n",
        "\n",
        "# Items Method\n",
        "items = dict1.items()\n",
        "print(items)             # Output: dict_items([('name', 'Alice'), ('age', 25), ('city', 'New York'), ('country', 'USA'), ('email', 'alice@example.com')])\n",
        "\n",
        "# Iterating through items\n",
        "for key, value in items:\n",
        "    print(f\"{key}: {value}\")"
      ]
    },
    {
      "cell_type": "code",
      "execution_count": null,
      "id": "f8cf3ca0",
      "metadata": {
        "id": "f8cf3ca0"
      },
      "outputs": [],
      "source": [
        "# <--- Dictionary Comprehensions in Python --->\n",
        "\n",
        "squares = {x: x**2 for x in range(1, 6)}\n",
        "print(squares)  # Output: {1: 1, 2: 4, 3: 9, 4: 16, 5: 25}\n",
        "\n",
        "co_ordinates = [(10, 10.5), (20, 30.5), (50, 60.5)]\n",
        "Locations = {\"X\", \"Y\", \"Z\"}\n",
        "location_dict = {loc: co_ord for loc, co_ord in zip(Locations, co_ordinates)}\n",
        "print(location_dict)  # Output: {'X': (10, 10.5), 'Y': (20, 30.5), 'Z': (50, 60.5)}"
      ]
    },
    {
      "cell_type": "markdown",
      "id": "6414e350",
      "metadata": {
        "id": "6414e350"
      },
      "source": [
        "## Problem 1: Unique Values"
      ]
    },
    {
      "cell_type": "code",
      "execution_count": null,
      "id": "11761241",
      "metadata": {
        "id": "11761241"
      },
      "outputs": [],
      "source": [
        "# Given a list of numbers, need to make a list with unique values.\n",
        "numbers = [1, 2, 2, 3, 4, 4, 5]\n",
        "\n",
        "unique_numbers = list(set(numbers))\n",
        "print(unique_numbers)  # Output: [1, 2, 3, 4, 5]"
      ]
    },
    {
      "cell_type": "markdown",
      "id": "e12b341e",
      "metadata": {
        "id": "e12b341e"
      },
      "source": [
        "## Problem 2: Frequency of Words"
      ]
    },
    {
      "cell_type": "code",
      "execution_count": null,
      "id": "69435a03",
      "metadata": {
        "id": "69435a03"
      },
      "outputs": [],
      "source": [
        "# Given a large string, need to print the frequency of the words.\n",
        "string = \"\"\"\n",
        "hello world hello everyone welcome to the world of python python programming\n",
        "\"\"\"\n",
        "\n",
        "word_list = string.split()\n",
        "word_freq = {}\n",
        "\n",
        "for word in word_list:\n",
        "    word_freq[word] = word_freq.get(word, 0) + 1\n",
        "\n",
        "print(word_freq)"
      ]
    }
  ],
  "metadata": {
    "kernelspec": {
      "display_name": "Python 3",
      "language": "python",
      "name": "python3"
    },
    "language_info": {
      "codemirror_mode": {
        "name": "ipython",
        "version": 3
      },
      "file_extension": ".py",
      "mimetype": "text/x-python",
      "name": "python",
      "nbconvert_exporter": "python",
      "pygments_lexer": "ipython3",
      "version": "3.13.5"
    },
    "colab": {
      "provenance": [],
      "include_colab_link": true
    }
  },
  "nbformat": 4,
  "nbformat_minor": 5
}