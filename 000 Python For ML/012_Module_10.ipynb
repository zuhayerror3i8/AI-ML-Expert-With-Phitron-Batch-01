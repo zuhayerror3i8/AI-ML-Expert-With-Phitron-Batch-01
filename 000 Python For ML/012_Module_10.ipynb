{
  "cells": [
    {
      "cell_type": "markdown",
      "metadata": {
        "id": "view-in-github",
        "colab_type": "text"
      },
      "source": [
        "<a href=\"https://colab.research.google.com/github/zuhayerror3i8/AI-ML-Expert-With-Phitron-Batch-01/blob/main/000%20Python%20For%20ML/012_Module_10.ipynb\" target=\"_parent\"><img src=\"https://colab.research.google.com/assets/colab-badge.svg\" alt=\"Open In Colab\"/></a>"
      ]
    },
    {
      "cell_type": "markdown",
      "id": "dd6084b5",
      "metadata": {
        "id": "dd6084b5"
      },
      "source": [
        "# Module 10 — Data Analysis with Numpy"
      ]
    },
    {
      "cell_type": "code",
      "execution_count": null,
      "id": "78301f79",
      "metadata": {
        "id": "78301f79"
      },
      "outputs": [],
      "source": [
        "# <--- ndarrays in Python --->\n",
        "import numpy as np\n",
        "\n",
        "arr1 = np.array([1, 2, 3])    # Create a 1D array\n",
        "\n",
        "arr2 = np.array([[1, 2, 3],\n",
        "                 [4, 5, 6]])  # Create a 2D array\n",
        "\n",
        "arr3 = np.array([[[1, 2],\n",
        "                  [3, 4]],\n",
        "\n",
        "                 [[5, 6],\n",
        "                  [7, 8]]])   # Create a 3D array"
      ]
    },
    {
      "cell_type": "code",
      "execution_count": null,
      "id": "b0257f74",
      "metadata": {
        "id": "b0257f74"
      },
      "outputs": [],
      "source": [
        "# <--- ndarray attributes in Python --->\n",
        "\n",
        "# Dimensions\n",
        "print(arr1.ndim)   # Output: 1\n",
        "print(arr2.ndim)   # Output: 2\n",
        "print(arr3.ndim)   # Output: 3\n",
        "\n",
        "# Shape\n",
        "print(arr1.shape)  # Output: (3,)\n",
        "print(arr2.shape)  # Output: (2, 3)\n",
        "print(arr3.shape)  # Output: (2, 2, 2)\n",
        "\n",
        "\n",
        "# Data type\n",
        "print(arr1.dtype)  # Output: int64 (or int32 depending on the system)\n",
        "print(arr2.dtype)  # Output: int64 (or int32 depending on the system)\n",
        "print(arr3.dtype)  # Output: int64 (or int32 depending on the system)\n",
        "\n",
        "# Size (number of elements)\n",
        "print(arr1.size)   # Output: 3\n",
        "print(arr2.size)   # Output: 6\n",
        "print(arr3.size)   # Output: 8"
      ]
    },
    {
      "cell_type": "code",
      "execution_count": null,
      "id": "56cab692",
      "metadata": {
        "id": "56cab692"
      },
      "outputs": [],
      "source": [
        "# <--- ndarray Data Types in Python --->\n",
        "arr = np.array([1, 2, 3])\n",
        "print(arr.dtype)  # Output: int64\n",
        "\n",
        "arr_float = np.array([1.0, 2.0, 3.0])\n",
        "print(arr_float.dtype)  # Output: float64\n",
        "\n",
        "arr_both = np.array([1, 2.0, 3])  # Upcasting to float\n",
        "print(arr_both.dtype)  # Output: float64\n",
        "\n",
        "arr_mixed = np.array([1, 2, 3.3, 'X'])  # Upcasting to string\n",
        "print(arr_mixed.dtype)  # Output: <U32 (or similar string type)"
      ]
    },
    {
      "cell_type": "code",
      "execution_count": null,
      "id": "ac6ece03",
      "metadata": {
        "id": "ac6ece03"
      },
      "outputs": [],
      "source": [
        "# <--- Selecting a Data Type for an Array in Python --->\n",
        "arr = np.array([1, 2, 3], dtype=np.int8)  # Specify int8 data type\n",
        "print(arr.dtype)  # Output: int8\n",
        "arr = arr.astype(np.float64)  # Convert to float64\n",
        "print(arr.dtype)  # Output: float64"
      ]
    },
    {
      "cell_type": "code",
      "execution_count": null,
      "id": "2f0dad5c",
      "metadata": {
        "id": "2f0dad5c"
      },
      "outputs": [],
      "source": [
        "# <--- ndarray creation from existing data in Python --->\n",
        "lst = [1, 2, 3, 4, 5]\n",
        "arr_from_list = np.array(lst)  # Create ndarray from list\n",
        "print(arr_from_list)  # Output: [1 2 3 4 5]\n",
        "print(type(arr_from_list))  # Output: <class 'numpy.ndarray'>\n",
        "print(arr_from_list.dtype)  # Output: int64 (or int32 depending on the system)\n",
        "\n",
        "mixed_lst = [1, 2.0, 3, 'X']\n",
        "arr_from_mixed_list = np.array(mixed_lst)  # Create ndarray from mixed list\n",
        "print(arr_from_mixed_list)  # Output: ['1' '2.0' '3' 'X']\n",
        "print(type(arr_from_mixed_list))  # Output: <class 'numpy.ndarray'>\n",
        "print(arr_from_mixed_list.dtype)  # Output: <U32\n",
        "\n",
        "matrix = [[1, 2, 3],\n",
        "          [4, 5, 6]]\n",
        "arr_from_matrix = np.array(matrix)  # Create ndarray from matrix\n",
        "print(arr_from_matrix)  # Output: [[1 2 3] [4 5 6]]\n",
        "print(type(arr_from_matrix))  # Output: <class 'numpy.ndarray'>\n",
        "print(arr_from_matrix.dtype)  # Output: int64 (or int32 depending on the system)\n",
        "print(arr_from_matrix.shape)  # Output: (2, 3)\n",
        "print(arr_from_matrix.ndim)  # Output: 2\n",
        "\n",
        "tuple_data = (1, 2, 3, 4, 5)\n",
        "arr_from_tuple = np.array(tuple_data)  # Create ndarray from tuple\n",
        "print(arr_from_tuple)  # Output: [1 2 3 4 5]\n",
        "print(type(arr_from_tuple))  # Output: <class 'numpy.ndarray'>\n",
        "print(arr_from_tuple.dtype)  # Output: int64 (or int32 depending on the system)\n",
        "print(arr_from_tuple.shape)  # Output: (5,)\n",
        "print(arr_from_tuple.ndim)  # Output: 1\n",
        "\n",
        "set_data = {1, 2, 3, 4, 5}\n",
        "arr_from_set = np.array(list(set_data))  # Create ndarray from set\n",
        "print(arr_from_set)  # Output: [1 2 3 4 5]\n",
        "print(type(arr_from_set))  # Output: <class 'numpy.ndarray'>\n",
        "print(arr_from_set.dtype)  # Output: int64 (or int32 depending on the system)\n",
        "print(arr_from_set.shape)  # Output: (5,)\n",
        "print(arr_from_set.ndim)  # Output: 1\n",
        "\n",
        "dict_data = {'a': 1, 'b': 2, 'c': 3}\n",
        "keys = dict_data.keys()  # Get dict keys\n",
        "values = dict_data.values()  # Get dict values\n",
        "items = dict_data.items()  # Get dict items\n",
        "arr_from_keys = np.array(list(keys))  # Create ndarray from dict keys\n",
        "arr_from_values = np.array(list(values))  # Create ndarray from dict values\n",
        "arr_from_items = np.array(list(items))  # Create ndarray from dict items\n",
        "print(arr_from_keys)  # Output: ['a' 'b' 'c']\n",
        "print(arr_from_values)  # Output: [1 2 3]\n",
        "print(arr_from_items)  # Output: [['a', 1] ['b', 2] ['c', 3]]\n",
        "print(type(arr_from_keys))  # Output: <class 'numpy.ndarray'>\n",
        "print(type(arr_from_values))  # Output: <class 'numpy.ndarray'>\n",
        "print(type(arr_from_items))  # Output: <class 'numpy.ndarray'>\n",
        "print(arr_from_keys.dtype)  # Output: <U1 (or similar string type)\n",
        "print(arr_from_values.dtype)  # Output: int64 (or int32 depending on the system)\n",
        "print(arr_from_items.dtype)  # Output: <U21 (or similar string type)\n",
        "print(arr_from_keys.shape)  # Output: (3,)\n",
        "print(arr_from_values.shape)  # Output: (3,)\n",
        "print(arr_from_items.shape)  # Output: (3, 2)\n",
        "print(arr_from_keys.ndim)  # Output: 1\n",
        "print(arr_from_values.ndim)  # Output: 1\n",
        "print(arr_from_items.ndim)  # Output: 2\n",
        "print(arr_from_keys.size)  # Output: 3\n",
        "print(arr_from_values.size)  # Output: 3\n",
        "print(arr_from_items.size)  # Output: 6"
      ]
    },
    {
      "cell_type": "code",
      "execution_count": null,
      "id": "a4c09c36",
      "metadata": {
        "id": "a4c09c36"
      },
      "outputs": [],
      "source": [
        "# <--- Creating ndarrays from scratch in Python --->\n",
        "zeros_arr = np.zeros((2, 3))  # Create a 2x3 array of zeros\n",
        "print(zeros_arr)\n",
        "print(type(zeros_arr))  # Output: <class 'numpy.ndarray'>\n",
        "print(zeros_arr.dtype)  # Output: float64\n",
        "print(zeros_arr.shape)  # Output: (2, 3)\n",
        "print(zeros_arr.ndim)   # Output: 2\n",
        "print(zeros_arr.size)   # Output: 6\n",
        "\n",
        "arr_zeros_like = np.zeros_like(arr3)  # Create an array of zeros with the same shape as arr3\n",
        "print(arr_zeros_like)\n",
        "print(arr_zeros_like.shape)           # Output: (2, 2, 2)\n",
        "\n",
        "ones_arr = np.ones((3, 4))  # Create a 3x4 array of ones\n",
        "print(ones_arr)\n",
        "print(type(ones_arr))  # Output: <class 'numpy.ndarray'>\n",
        "print(ones_arr.dtype)  # Output: float64\n",
        "print(ones_arr.shape)  # Output: (3, 4)\n",
        "print(ones_arr.ndim)   # Output: 2\n",
        "print(ones_arr.size)   # Output: 12\n",
        "\n",
        "arr_ones_like = np.ones_like(arr3)  # Create an array of ones with the same shape as arr3\n",
        "print(arr_ones_like)\n",
        "print(arr_ones_like.shape)          # Output: (2, 2, 2)\n",
        "\n",
        "empty_arr = np.empty((2, 3))  # Create a 2x3 array without initializing entries\n",
        "print(empty_arr)\n",
        "print(type(empty_arr))  # Output: <class 'numpy.ndarray'>\n",
        "print(empty_arr.dtype)  # Output: float64\n",
        "print(empty_arr.shape)  # Output: (2, 3)\n",
        "print(empty_arr.ndim)   # Output: 2\n",
        "print(empty_arr.size)   # Output: 6\n",
        "\n",
        "arr_empty_like = np.empty_like(arr3)  # Create an uninitialized array with the same shape as arr3\n",
        "print(arr_empty_like)\n",
        "print(arr_empty_like.shape)           # Output: (2, 2, 2)\n",
        "\n",
        "full_arr = np.full((2, 3), 7)  # Create a 2x3 array filled with the value 7\n",
        "print(full_arr)\n",
        "print(type(full_arr))  # Output: <class 'numpy.ndarray'>\n",
        "print(full_arr.dtype)  # Output: int64\n",
        "print(full_arr.shape)  # Output: (2, 3)\n",
        "print(full_arr.ndim)   # Output: 2\n",
        "print(full_arr.size)   # Output: 6\n",
        "\n",
        "arr_full_like = np.full_like(arr3, 9)  # Create an array filled with 9 with the same shape as arr3\n",
        "print(arr_full_like)\n",
        "print(arr_full_like.shape)             # Output: (2, 2, 2)"
      ]
    },
    {
      "cell_type": "code",
      "execution_count": null,
      "id": "72183ff5",
      "metadata": {
        "id": "72183ff5"
      },
      "outputs": [],
      "source": [
        "# <--- Array creation with random values in Python --->\n",
        "rand_arr = np.random.rand(2, 3)  # Create a 2x3 array with random values in [0.0, 1.0)\n",
        "print(rand_arr)\n",
        "print(type(rand_arr))  # Output: <class 'numpy.ndarray'>\n",
        "print(rand_arr.dtype)  # Output: float64\n",
        "print(rand_arr.shape)  # Output: (2, 3)\n",
        "print(rand_arr.ndim)   # Output: 2\n",
        "print(rand_arr.size)   # Output: 6\n",
        "\n",
        "rand_int_arr = np.random.randint(0, 10, size=(2, 3))  # Create a 2x3 array with random integers in [0, 10)\n",
        "print(rand_int_arr)\n",
        "print(type(rand_int_arr))  # Output: <class 'numpy.ndarray'>\n",
        "print(rand_int_arr.dtype)  # Output: int32\n",
        "print(rand_int_arr.shape)  # Output: (2, 3)\n",
        "print(rand_int_arr.ndim)   # Output: 2\n",
        "print(rand_int_arr.size)   # Output: 6\n",
        "\n",
        "rand_float_arr = np.random.random_sample((2, 3))  # Create a 2x3 array with random floats in [0.0, 1.0)\n",
        "print(rand_float_arr)\n",
        "print(type(rand_float_arr))  # Output: <class 'numpy.ndarray'>\n",
        "print(rand_float_arr.dtype)  # Output: float64\n",
        "print(rand_float_arr.shape)  # Output: (2, 3)\n",
        "print(rand_float_arr.ndim)   # Output: 2\n",
        "print(rand_float_arr.size)   # Output: 6"
      ]
    },
    {
      "cell_type": "code",
      "execution_count": null,
      "id": "31a9b5c0",
      "metadata": {
        "id": "31a9b5c0"
      },
      "outputs": [],
      "source": [
        "# <--- ndarray creation with range function in Python --->\n",
        "\n",
        "# np.arange(first, end, step)\n",
        "arr = np.arange(1, 10 , 1)  # Create an array with values from 1 to 9\n",
        "mat = arr.reshape(3, 3)  # Reshape to 3x3 matrix\n",
        "\n",
        "print(arr)  # Output: [1 2 3 4 5 6 7 8 9]\n",
        "print(mat)  # Output: [[1 2 3]\n",
        "            #          [4 5 6]\n",
        "            #          [7 8 9]]\n",
        "print(type(arr))  # Output: <class 'numpy.ndarray'>\n",
        "print(arr.dtype)  # Output: int64\n",
        "print(arr.shape)  # Output: (9,)\n",
        "print(arr.ndim)   # Output: 1\n",
        "print(arr.size)   # Output: 9\n",
        "\n",
        "arr = np.linspace(1, 10, 5)  # Create an array with 5 values evenly spaced between 1 and 10\n",
        "print(arr)  # Output: [ 1.    3.25  5.5   7.75 10.  ]\n",
        "print(type(arr))  # Output: <class 'numpy.ndarray'>\n",
        "print(arr.dtype)  # Output: float64\n",
        "print(arr.shape)  # Output: (5,)\n",
        "print(arr.ndim)   # Output: 1\n",
        "print(arr.size)   # Output: 5\n",
        "\n",
        "arr = np.logspace(1, 100, 4)  # Create an array with 4 values logarithmically spaced between 10^1 and 10^2\n",
        "print(arr)  # Output: [1.e+001 1.e+034 1.e+067 1.e+100]\n",
        "print(type(arr))  # Output: <class 'numpy.ndarray'>\n",
        "print(arr.dtype)  # Output: float64\n",
        "print(arr.shape)  # Output: (4,)\n",
        "print(arr.ndim)   # Output: 1\n",
        "print(arr.size)   # Output: 4\n",
        "\n",
        "arr = np.logspace(0, 3, 4, base=2)  # Create an array with 4 values logarithmically spaced between 2^0 and 2^32\n",
        "print(arr)  # Output: [ 1.  2.  4.  8.]\n",
        "print(type(arr))  # Output: <class 'numpy.ndarray'>\n",
        "print(arr.dtype)  # Output: float64\n",
        "print(arr.shape)  # Output: (4,)\n",
        "print(arr.ndim)   # Output: 1\n",
        "print(arr.size)   # Output: 4"
      ]
    },
    {
      "cell_type": "code",
      "execution_count": null,
      "id": "596ab6ae",
      "metadata": {
        "id": "596ab6ae"
      },
      "outputs": [],
      "source": [
        "# <--- Creation of diagonal and identity matrices in Python --->\n",
        "diag_arr = np.diag([1, 2, 3, 4])  # Create a diagonal matrix\n",
        "print(diag_arr)\n",
        "print(diag_arr.shape)             # Output: (4, 4)\n",
        "\n",
        "identity_arr = np.eye(4)   # Create a 4x4 identity matrix\n",
        "print(identity_arr)\n",
        "print(identity_arr.shape)  # Output: (4, 4)\n",
        "\n",
        "manipulated_identity_arr =  np.eye(3, 4, 1)  # Create a 3x4 identity matrix with diagonal offset by 1\n",
        "print(manipulated_identity_arr)\n",
        "print(manipulated_identity_arr.shape)        # Output: (3, 4)\n",
        "\n",
        "manipulated_identity_arr =  np.eye(3, 4, -1)  # Create a 3x4 identity matrix with diagonal offset by -1\n",
        "print(manipulated_identity_arr)\n",
        "print(manipulated_identity_arr.shape)         # Output: (3, 4)"
      ]
    },
    {
      "cell_type": "code",
      "execution_count": null,
      "id": "af4ae96b",
      "metadata": {
        "id": "af4ae96b"
      },
      "outputs": [],
      "source": [
        "# <--- Indexing and Slicing in Python --->\n",
        "arr1 = np.array([10, 20, 30, 40, 50])  # 1D array\n",
        "arr2 = np.array([[10, 20, 30],\n",
        "                 [40, 50, 60],\n",
        "                 [70, 80, 90]])        # 2D array\n",
        "\n",
        "print(arr1[0])      # Output: 10\n",
        "print(arr1[2])      # Output: 30\n",
        "\n",
        "print(arr2[0, 0])   # Output: 10\n",
        "print(arr2[1, 1])   # Output: 50\n",
        "print(arr2[2, 2])   # Output: 90\n",
        "\n",
        "# Slicing: arr[start:end:step]\n",
        "print(arr1[1:4])    # Output: [20 30 40]\n",
        "print(arr1[:3])     # Output: [10 20 30]\n",
        "print(arr1[2:])     # Output: [30 40 50]\n",
        "print(arr1[::2])    # Output: [10 30 50]\n",
        "print(arr1[::-1])   # Output: [50 40 30 20 10]\n",
        "\n",
        "print(arr2[0:2, 1:3])    # Output: [[20 30]\n",
        "                         #          [50 60]]\n",
        "print(arr2[:, 1])        # Output: [20 50 80]\n",
        "print(arr2[1, :])        # Output: [40 50 60]\n",
        "print(arr2[::2, ::2])    # Output: [[10 30]\n",
        "                         #          [70 90]]\n",
        "print(arr2[::-1, ::-1])  # Output: [[90 80 70]\n",
        "                         #          [60 50 40]\n",
        "                         #          [30 20 10]]"
      ]
    },
    {
      "cell_type": "code",
      "execution_count": null,
      "id": "bf5672dd",
      "metadata": {
        "id": "bf5672dd"
      },
      "outputs": [],
      "source": [
        "# <--- Advanced Indexing and Iteration in Python --->\n",
        "arr1 = np.array([10, 20, 30, 40, 50])  # 1D array\n",
        "\n",
        "arr1_mod = arr1[1:4]\n",
        "arr1_mod[0] = 99\n",
        "print(arr1)        # Output: [10 99 30 40 50]\n",
        "print(arr1_mod)    # Output: [99 30 40]\n",
        "\n",
        "arr1_mod = arr1[1:4].copy()\n",
        "arr1_mod[0] = 11\n",
        "print(arr1)        # Output: [10 99 30 40 50]\n",
        "print(arr1_mod)    # Output: [11 30 40]\n",
        "\n",
        "lst = np.array([10, 20, 30, 40, 50])\n",
        "values = lst[[0, 2, 4]]  # Advanced indexing to select specific elements\n",
        "print(values)            # Output: [10 30 50]\n",
        "\n",
        "arr2 = np.array([[10, 20, 30],\n",
        "                 [40, 50, 60],\n",
        "                 [70, 80, 90]])  # 2D array\n",
        "print(arr2[[0, 2], [1, 2]])      # Output: [20 90]\n",
        "print(arr2[arr2<30])             # Output: [10 20]\n",
        "\n",
        "arr3 = np.array([[10, 20, 30],\n",
        "                 [40, 50, 60],\n",
        "                 [70, 80, 90]])  # 2D array\n",
        "for i in np.nditer(arr3):\n",
        "    print(i, end=' ')            # Output: 10 20 30 40 50 60 70 80 90"
      ]
    }
  ],
  "metadata": {
    "kernelspec": {
      "display_name": "Python 3",
      "language": "python",
      "name": "python3"
    },
    "language_info": {
      "codemirror_mode": {
        "name": "ipython",
        "version": 3
      },
      "file_extension": ".py",
      "mimetype": "text/x-python",
      "name": "python",
      "nbconvert_exporter": "python",
      "pygments_lexer": "ipython3",
      "version": "3.13.5"
    },
    "colab": {
      "provenance": [],
      "include_colab_link": true
    }
  },
  "nbformat": 4,
  "nbformat_minor": 5
}