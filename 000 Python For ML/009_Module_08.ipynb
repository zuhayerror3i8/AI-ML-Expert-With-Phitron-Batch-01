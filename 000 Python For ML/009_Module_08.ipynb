{
  "cells": [
    {
      "cell_type": "markdown",
      "metadata": {
        "id": "view-in-github",
        "colab_type": "text"
      },
      "source": [
        "<a href=\"https://colab.research.google.com/github/zuhayerror3i8/AI-ML-Expert-With-Phitron-Batch-01/blob/main/000%20Python%20For%20ML/009_Module_08.ipynb\" target=\"_parent\"><img src=\"https://colab.research.google.com/assets/colab-badge.svg\" alt=\"Open In Colab\"/></a>"
      ]
    },
    {
      "cell_type": "markdown",
      "id": "6e7a62cf",
      "metadata": {
        "id": "6e7a62cf"
      },
      "source": [
        "# Module 8 — OOP"
      ]
    },
    {
      "cell_type": "code",
      "execution_count": null,
      "id": "a659dd9d",
      "metadata": {
        "id": "a659dd9d"
      },
      "outputs": [],
      "source": [
        "# <--- Introduction to OOP in Python --->\n",
        "class Phone:\n",
        "    category = \"Electronics\"  # Class attribute\n",
        "\n",
        "    # Constructor to initialize instance attributes\n",
        "    def __init__(self, model, battery, camera):\n",
        "        self.model = model\n",
        "        self.battery = battery\n",
        "        self.camera = camera\n",
        "\n",
        "    # Methods of the class\n",
        "    def make_call(self, number):\n",
        "        print(f\"Calling {number} from {self.model}\")\n",
        "\n",
        "    def send_message(self, number, message):\n",
        "        print(f\"Sending message to {number} from {self.model}: {message}\")\n",
        "\n",
        "    def take_photo(self):\n",
        "        print(f\"Taking photo with {self.camera} camera on {self.model}\")\n",
        "\n",
        "apple = Phone(\"iPhone 13\", \"3095mAh\", \"12MP\")\n",
        "samsung = Phone(\"Galaxy S21\", \"4000mAh\", \"64MP\")\n",
        "xiaomi = Phone(\"Mi 11\", \"4600mAh\", \"108MP\")\n",
        "\n",
        "print(apple.category)  # Accessing class attribute\n",
        "print(samsung.category) # Accessing class attribute\n",
        "print(xiaomi.category)  # Accessing class attribute\n",
        "\n",
        "apple.category = \"Super Electronics\"  # Changing instance attribute\n",
        "print(apple.category)  # Accessing modified instance attribute\n",
        "\n",
        "print(apple.model)  # Accessing instance attribute\n",
        "print(samsung.battery)  # Accessing instance attribute\n",
        "print(xiaomi.camera)  # Accessing instance attribute\n",
        "\n",
        "apple.make_call(\"+123456789\")  # Calling method\n",
        "samsung.send_message(\"+987654321\", \"Hello!\")  # Calling method\n",
        "xiaomi.take_photo()  # Calling method"
      ]
    },
    {
      "cell_type": "code",
      "execution_count": null,
      "id": "5327a6e1",
      "metadata": {
        "id": "5327a6e1"
      },
      "outputs": [],
      "source": [
        "# <--- OOP Inheritance in Python --->\n",
        "class Smartphone(Phone):  # Inheriting from Phone class\n",
        "    def __init__(self, model, battery, camera, os):\n",
        "        super().__init__(model, battery, camera)  # Calling parent constructor\n",
        "        self.os = os  # New attribute for Smartphone\n",
        "\n",
        "    def install_app(self, app_name):\n",
        "        print(f\"Installing {app_name} on {self.model} running {self.os}\")\n",
        "\n",
        "iphone = Smartphone(\"iPhone 13 Pro\", \"3095mAh\", \"12MP\", \"iOS\")\n",
        "\n",
        "print(iphone.category)  # Accessing inherited class attribute\n",
        "print(iphone.model)  # Accessing inherited attribute\n",
        "print(iphone.battery)  # Accessing inherited instance attribute\n",
        "print(iphone.camera)  # Accessing inherited instance attribute\n",
        "iphone.make_call(\"+123456789\")  # Calling inherited method\n",
        "iphone.send_message(\"+987654321\", \"Hello from iPhone!\")  # Calling inherited method\n",
        "iphone.take_photo()  # Calling inherited method\n",
        "\n",
        "print(iphone.os)  # Accessing new attribute\n",
        "\n",
        "iphone.install_app(\"Instagram\")  # Calling new method"
      ]
    },
    {
      "cell_type": "code",
      "execution_count": null,
      "id": "525124ef",
      "metadata": {
        "id": "525124ef"
      },
      "outputs": [],
      "source": [
        "# <--- OOP Polymorphism in Python --->\n",
        "class Camera:\n",
        "    def __init__(self, name):\n",
        "        self.name = name\n",
        "\n",
        "    def capture(self):\n",
        "        print(\"A photo is captured\")\n",
        "\n",
        "class Smartphone(Camera):\n",
        "    def __init__(self, name, resolution):\n",
        "        super().__init__(name)\n",
        "        self.resolution = resolution\n",
        "\n",
        "    # Overriding the capture method\n",
        "    def capture(self):\n",
        "        print(f\"A photo is captured with {self.resolution} resolution on {self.name}\")\n",
        "\n",
        "class DSLR(Camera):\n",
        "    def __init__(self, name, resolution):\n",
        "        super().__init__(name)\n",
        "        self.resolution = resolution\n",
        "\n",
        "    # Overriding the capture method\n",
        "    def capture(self):\n",
        "        print(f\"A high-quality photo is captured with {self.resolution} resolution on {self.name}\")\n",
        "\n",
        "class Drone(Camera):\n",
        "    def __init__(self, name, resolution):\n",
        "        super().__init__(name)\n",
        "        self.resolution = resolution\n",
        "\n",
        "    # Overriding the capture method\n",
        "    def capture(self):\n",
        "        print(f\"Aerial photo is captured with {self.resolution} resolution on {self.name}\")\n",
        "\n",
        "smartphone = Smartphone(\"iPhone 13 Pro\", \"12MP\")\n",
        "dslr = DSLR(\"Canon EOS R5\", \"45MP\")\n",
        "drone = Drone(\"DJI Air 3\", \"48MP\")\n",
        "\n",
        "smartphone.capture()\n",
        "dslr.capture()\n",
        "drone.capture()"
      ]
    },
    {
      "cell_type": "code",
      "execution_count": null,
      "id": "b23630c7",
      "metadata": {
        "id": "b23630c7"
      },
      "outputs": [],
      "source": [
        "# <--- OOP Encapsulation in Python --->\n",
        "class Phone:\n",
        "    def __init__(self, name, model, imei):\n",
        "        self.__name = name\n",
        "        self.__model = model\n",
        "        self.__imei = imei  # Private attribute\n",
        "\n",
        "    def charge(self):\n",
        "        print(\"Phone is charging...\")\n",
        "\n",
        "    def name_getter(self):  # Public method to access private attribute\n",
        "        return self.__name\n",
        "\n",
        "    def model_getter(self):  # Public method to access private attribute\n",
        "        return self.__model\n",
        "\n",
        "    def get_imei(self):  # Public method to access private attribute\n",
        "        return self.__imei\n",
        "\n",
        "    def name_setter(self, name):  # Public method to modify private attribute\n",
        "        self.__name = name\n",
        "\n",
        "apple = Phone(\"Apple\", \"iPhone 13\", \"123456789012345\")\n",
        "\n",
        "# print(apple.name)  # Accessing public attribute (will raise AttributeError)\n",
        "# print(apple.model)  # Accessing public attribute (will raise AttributeError)\n",
        "# print(apple.imei)  # Accessing private attribute (will raise AttributeError)\n",
        "\n",
        "print(apple.name_getter())  # Accessing private attribute via public method\n",
        "print(apple.get_imei())  # Accessing private attribute via public method\n",
        "print(apple.model_getter())  # Accessing private attribute via public method\n",
        "\n",
        "apple.name_setter(\"New Apple\")  # Modifying private attribute via public method\n",
        "print(apple.name_getter())  # Accessing modified private attribute via public method"
      ]
    },
    {
      "cell_type": "code",
      "execution_count": null,
      "id": "303e5e52",
      "metadata": {
        "id": "303e5e52"
      },
      "outputs": [],
      "source": [
        "# <--- OOP Abstraction in Python --->\n",
        "from abc import ABC, abstractmethod\n",
        "\n",
        "class Phone(ABC):  # Abstract base class\n",
        "    @abstractmethod\n",
        "    def make_call(self):\n",
        "        pass  # Abstract\n",
        "\n",
        "class Smartphone(Phone):  # Inheriting from abstract class\n",
        "    def make_call(self):\n",
        "        print(\"Making a call from Smartphone\")\n",
        "\n",
        "class BasicPhone(Phone):  # Inheriting from abstract class\n",
        "    def make_call(self):\n",
        "        print(\"Making a call from BasicPhone\")\n",
        "\n",
        "apple = Smartphone()\n",
        "basic_phone = BasicPhone()\n",
        "apple.make_call()  # Calling method\n",
        "basic_phone.make_call()  # Calling method"
      ]
    }
  ],
  "metadata": {
    "kernelspec": {
      "display_name": "Python 3",
      "language": "python",
      "name": "python3"
    },
    "language_info": {
      "codemirror_mode": {
        "name": "ipython",
        "version": 3
      },
      "file_extension": ".py",
      "mimetype": "text/x-python",
      "name": "python",
      "nbconvert_exporter": "python",
      "pygments_lexer": "ipython3",
      "version": "3.13.5"
    },
    "colab": {
      "provenance": [],
      "include_colab_link": true
    }
  },
  "nbformat": 4,
  "nbformat_minor": 5
}