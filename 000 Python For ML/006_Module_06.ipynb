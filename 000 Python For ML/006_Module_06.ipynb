{
  "cells": [
    {
      "cell_type": "markdown",
      "metadata": {
        "id": "view-in-github",
        "colab_type": "text"
      },
      "source": [
        "<a href=\"https://colab.research.google.com/github/zuhayerror3i8/AI-ML-Expert-With-Phitron-Batch-01/blob/main/000%20Python%20For%20ML/006_Module_06.ipynb\" target=\"_parent\"><img src=\"https://colab.research.google.com/assets/colab-badge.svg\" alt=\"Open In Colab\"/></a>"
      ]
    },
    {
      "cell_type": "markdown",
      "id": "d126b89c",
      "metadata": {
        "id": "d126b89c"
      },
      "source": [
        "# Module 6 — Functions & Functional Programming"
      ]
    },
    {
      "cell_type": "code",
      "execution_count": null,
      "id": "aded0833",
      "metadata": {
        "id": "aded0833"
      },
      "outputs": [],
      "source": [
        "# <--- Functions in Python --->\n",
        "def greet():\n",
        "    print(\"Hello, World!\")\n",
        "\n",
        "greet()  # Calling the function"
      ]
    },
    {
      "cell_type": "code",
      "execution_count": null,
      "id": "4efbaa0e",
      "metadata": {
        "id": "4efbaa0e"
      },
      "outputs": [],
      "source": [
        "# <--- Functions parameters in Python --->\n",
        "def greet(name):\n",
        "    print(f\"Hello, {name}!\")\n",
        "\n",
        "greet(\"Alice\")  # Calling the function with a parameter\n",
        "\n",
        "# Square addition\n",
        "def square_addition(a, b):\n",
        "    a = a**2\n",
        "    b = b**2\n",
        "    print(a + b)\n",
        "\n",
        "# ans = square_addition(2, 3) + 10 # error because function does not return anything\n",
        "\n",
        "# Square addition\n",
        "def square_addition(a, b):\n",
        "    a = a**2\n",
        "    b = b**2\n",
        "    return a + b\n",
        "\n",
        "ans = square_addition(2, 3) + 10 # works fine because function returns a value\n",
        "print(ans)\n",
        "\n",
        "# Use of *args\n",
        "def square_addition(*args):\n",
        "    result = 0\n",
        "    for i in args:\n",
        "        result += i**2\n",
        "    return result\n",
        "\n",
        "ans = square_addition(2, 3, 4, 5) + 10 # output will be 64\n",
        "print(ans)\n",
        "\n",
        "# Use of **kwargs\n",
        "def student_info(**kwargs):\n",
        "    for key, value in kwargs.items():\n",
        "        print(f\"{key}: {value}\")\n",
        "\n",
        "student_info(name=\"Alice\", age=20, city=\"New York\") # output: name: Alice, age: 20, city: New York"
      ]
    },
    {
      "cell_type": "code",
      "execution_count": null,
      "id": "6021a797",
      "metadata": {
        "id": "6021a797"
      },
      "outputs": [],
      "source": [
        "# <--- Functions Return Types in Python --->\n",
        "\n",
        "# Function that returns an integer\n",
        "def square_addition(a, b):\n",
        "    a = a**2\n",
        "    b = b**2\n",
        "    return a + b\n",
        "result = square_addition(2, 3)\n",
        "print(type(result))         # Output: <class 'int'>\n",
        "\n",
        "# Function that returns a string\n",
        "def greet(name):\n",
        "    return f\"Hello, {name}!\"\n",
        "message = greet(\"Alice\")\n",
        "print(type(message))        # Output: <class 'str'>\n",
        "\n",
        "# Function that returns a tuple\n",
        "def get_coordinates():\n",
        "    return (10, 20)\n",
        "coords = get_coordinates()\n",
        "print(type(coords))         # Output: <class 'tuple'>\n",
        "\n",
        "# Function that returns a list\n",
        "def get_numbers():\n",
        "    return [1, 2, 3, 4, 5]\n",
        "numbers = get_numbers()\n",
        "print(type(numbers))        # Output: <class 'list'>\n",
        "\n",
        "def get_student_info():\n",
        "    return {\"name\": \"Alice\", \"age\": 20, \"city\": \"New York\"}\n",
        "info = get_student_info()\n",
        "print(type(info))           # Output: <class 'dict'>\n",
        "\n",
        "# Unpacking function return values\n",
        "def get_coordinates():\n",
        "    return (10, 20)\n",
        "x, y = get_coordinates()\n",
        "print(f\"x: {x}, y: {y}\")    # Output: x: 10, y: 20"
      ]
    },
    {
      "cell_type": "code",
      "execution_count": null,
      "id": "14423642",
      "metadata": {
        "id": "14423642"
      },
      "outputs": [],
      "source": [
        "# <--- Iterator in Python --->\n",
        "st = {10, 20, 30, 40, 50}\n",
        "\n",
        "it = iter(st)\n",
        "\n",
        "print(type(it))  # Output: <class 'set_iterator'>\n",
        "\n",
        "print(next(it))  # Output: 50\n",
        "print(next(it))  # Output: 20\n",
        "print(next(it))  # Output: 40\n",
        "print(next(it))  # Output: 10\n",
        "print(next(it))  # Output: 30\n",
        "\n",
        "# print(next(it))  # Raises StopIteration"
      ]
    },
    {
      "cell_type": "code",
      "execution_count": null,
      "id": "b9867598",
      "metadata": {
        "id": "b9867598"
      },
      "outputs": [],
      "source": [
        "# <--- Generator in Python --->\n",
        "lst = [x for x in range(20)] # dataset\n",
        "\n",
        "def data_loader(chunk_size, list):\n",
        "    for i in range(0, len(list), chunk_size):\n",
        "        yield list[i:i+chunk_size]\n",
        "\n",
        "x = data_loader(5, lst)\n",
        "\n",
        "print(type(x))  # Output: <class 'generator'>\n",
        "\n",
        "print(x)        # Output: <generator object data_loader at 0x...>\n",
        "\n",
        "print(next(x))  # Output: [0, 1, 2, 3, 4]\n",
        "print(next(x))  # Output: [5, 6, 7, 8, 9]\n",
        "print(next(x))  # Output: [10, 11, 12, 13, 14]"
      ]
    },
    {
      "cell_type": "code",
      "execution_count": null,
      "id": "14b85435",
      "metadata": {
        "id": "14b85435"
      },
      "outputs": [],
      "source": [
        "# <--- Lambda Function in Python --->\n",
        "\n",
        "square = lambda x: x ** 2\n",
        "print(square(5))           # Output: 25\n",
        "\n",
        "add = lambda x, y: x + y\n",
        "print(add(5, 10))          # Output: 15\n",
        "\n",
        "multiply = lambda x, y, z: x * y * z\n",
        "print(multiply(2, 3, 4))   # Output: 24\n",
        "\n",
        "if_even = lambda x: x % 2 == 0\n",
        "print(if_even(4))          # Output: True"
      ]
    },
    {
      "cell_type": "code",
      "execution_count": null,
      "id": "3e4b06c2",
      "metadata": {
        "id": "3e4b06c2"
      },
      "outputs": [],
      "source": [
        "# <--- Map Function in Python --->\n",
        "numbers = [1, 2, 3, 4, 5]\n",
        "\n",
        "def square(x):\n",
        "    return x ** 2\n",
        "\n",
        "squared_numbers = list(map(square, numbers))\n",
        "\n",
        "print(squared_numbers)         # Output: [1, 4, 9, 16, 25]\n",
        "\n",
        "# Using lambda with map\n",
        "squared_numbers_lambda = list(map(lambda x: x ** 2, numbers))\n",
        "print(squared_numbers_lambda)  # Output: [1, 4, 9, 16, 25]"
      ]
    },
    {
      "cell_type": "code",
      "execution_count": null,
      "id": "9bf97bde",
      "metadata": {
        "id": "9bf97bde"
      },
      "outputs": [],
      "source": [
        "# <--- Filter Function in Python --->\n",
        "nums = [x for x in range(10)]\n",
        "\n",
        "even_nums = list(filter(lambda x: x % 2 == 0, nums))\n",
        "print(even_nums)  # Output: [0, 2, 4, 6, 8]"
      ]
    },
    {
      "cell_type": "code",
      "execution_count": null,
      "id": "e2f99c17",
      "metadata": {
        "id": "e2f99c17"
      },
      "outputs": [],
      "source": [
        "# <--- Reduce Function in Python --->\n",
        "from functools import reduce\n",
        "\n",
        "nums = [1, 2, 3, 4, 5]\n",
        "\n",
        "sum_nums = reduce(lambda x, y: x + y, nums)\n",
        "print(sum_nums)  # Output: 15\n",
        "\n",
        "max_num = reduce(lambda x, y: x if x > y else y, nums)\n",
        "print(max_num)   # Output: 5"
      ]
    }
  ],
  "metadata": {
    "kernelspec": {
      "display_name": "Python 3",
      "language": "python",
      "name": "python3"
    },
    "language_info": {
      "codemirror_mode": {
        "name": "ipython",
        "version": 3
      },
      "file_extension": ".py",
      "mimetype": "text/x-python",
      "name": "python",
      "nbconvert_exporter": "python",
      "pygments_lexer": "ipython3",
      "version": "3.13.5"
    },
    "colab": {
      "provenance": [],
      "include_colab_link": true
    }
  },
  "nbformat": 4,
  "nbformat_minor": 5
}