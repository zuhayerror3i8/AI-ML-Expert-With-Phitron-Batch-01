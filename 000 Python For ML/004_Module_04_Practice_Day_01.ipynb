{
  "cells": [
    {
      "cell_type": "markdown",
      "metadata": {
        "id": "view-in-github",
        "colab_type": "text"
      },
      "source": [
        "<a href=\"https://colab.research.google.com/github/zuhayerror3i8/AI-ML-Expert-With-Phitron-Batch-01/blob/main/000%20Python%20For%20ML/004_Module_04_Practice_Day_01.ipynb\" target=\"_parent\"><img src=\"https://colab.research.google.com/assets/colab-badge.svg\" alt=\"Open In Colab\"/></a>"
      ]
    },
    {
      "cell_type": "markdown",
      "id": "53415f09",
      "metadata": {
        "id": "53415f09"
      },
      "source": [
        "# Module 4 — Practice Day 1"
      ]
    },
    {
      "cell_type": "markdown",
      "id": "c80f90e7",
      "metadata": {
        "id": "c80f90e7"
      },
      "source": [
        "`Practice Link:` [HACKERRANK](https://www.hackerrank.com/ai-ml-module-4-practice-day-1)"
      ]
    },
    {
      "cell_type": "code",
      "execution_count": null,
      "id": "599593ae",
      "metadata": {
        "id": "599593ae"
      },
      "outputs": [],
      "source": [
        "# <--- Smart Light Pilot --->\n",
        "\n",
        "x = input().split()\n",
        "\n",
        "if float(x[0]) >= float(x[1]):\n",
        "    print(\"ON\")\n",
        "else:\n",
        "    print(\"OFF\")"
      ]
    },
    {
      "cell_type": "code",
      "execution_count": null,
      "id": "49028a1f",
      "metadata": {
        "id": "49028a1f"
      },
      "outputs": [],
      "source": [
        "# <--- Sensor Calibrator - Min-Max Scaling --->\n",
        "\n",
        "values = input().split()\n",
        "x = float(values[0])\n",
        "min_v = float(values[1])\n",
        "max_v = float(values[2])\n",
        "\n",
        "norm = (x - min_v) / (max_v - min_v)\n",
        "\n",
        "print(f\"{norm:.2f}\")"
      ]
    },
    {
      "cell_type": "code",
      "execution_count": null,
      "id": "996ff8f9",
      "metadata": {
        "id": "996ff8f9"
      },
      "outputs": [],
      "source": [
        "# <--- Mini Loss Tracker --->\n",
        "\n",
        "N = int(input())\n",
        "target = float(input())\n",
        "\n",
        "total = 0.0\n",
        "\n",
        "for i in range(N):\n",
        "    loss = float(input())\n",
        "    total += loss\n",
        "\n",
        "average_loss = total / N\n",
        "\n",
        "if average_loss <= target:\n",
        "    print(\"PASS\")\n",
        "else:\n",
        "    print(\"RETRY\")"
      ]
    },
    {
      "cell_type": "code",
      "execution_count": null,
      "id": "9bb77017",
      "metadata": {
        "id": "9bb77017"
      },
      "outputs": [],
      "source": [
        "# <--- Majority Vote Gate --->\n",
        "\n",
        "N = int(input())\n",
        "\n",
        "yes_count = 0\n",
        "no_count = 0\n",
        "\n",
        "for i in range(N):\n",
        "    vote = input()\n",
        "    if vote == \"YES\":\n",
        "        yes_count += 1\n",
        "    else:\n",
        "        no_count += 1\n",
        "\n",
        "if yes_count >= no_count:\n",
        "    print(\"ACCEPT\")\n",
        "else:\n",
        "    print(\"REJECT\")"
      ]
    },
    {
      "cell_type": "code",
      "execution_count": null,
      "id": "011ff673",
      "metadata": {
        "id": "011ff673"
      },
      "outputs": [],
      "source": [
        "# <--- AI Mood Detector --->\n",
        "\n",
        "message = input()\n",
        "\n",
        "if \"happy\" in message or \"joy\" in message or \"smile\" in message:\n",
        "    print(\"Happy Mood\")\n",
        "elif \"sad\" in message or \"cry\" in message or \"angry\" in message:\n",
        "    print(\"Sad Mood\")\n",
        "else:\n",
        "    print(\"Neutral Mood\")"
      ]
    },
    {
      "cell_type": "code",
      "execution_count": null,
      "id": "5ea35913",
      "metadata": {
        "id": "5ea35913"
      },
      "outputs": [],
      "source": [
        "# <--- AI Brightness Analyzer --->\n",
        "\n",
        "pixels = input().split()\n",
        "\n",
        "total = 0\n",
        "count = 0\n",
        "\n",
        "for p in pixels:\n",
        "    total += int(p)\n",
        "    count += 1\n",
        "\n",
        "average = total / count\n",
        "\n",
        "if average < 85:\n",
        "    print(\"Dark Image\")\n",
        "elif average <= 170:\n",
        "    print(\"Normal Image\")\n",
        "else:\n",
        "    print(\"Bright Image\")"
      ]
    },
    {
      "cell_type": "code",
      "execution_count": null,
      "id": "41ce0c49",
      "metadata": {
        "id": "41ce0c49"
      },
      "outputs": [],
      "source": [
        "# <--- AI Bias Detector --->\n",
        "\n",
        "predictions = input().split()\n",
        "\n",
        "count_a = 0\n",
        "count_b = 0\n",
        "total = 0\n",
        "\n",
        "for p in predictions:\n",
        "    total += 1\n",
        "    if p == \"A\":\n",
        "        count_a += 1\n",
        "    else:\n",
        "        count_b += 1\n",
        "\n",
        "if count_a / total > 0.7 or count_b / total > 0.7:\n",
        "    print(\"Biased Model\")\n",
        "else:\n",
        "    print(\"Fair Model\")"
      ]
    },
    {
      "cell_type": "code",
      "execution_count": null,
      "id": "48f31381",
      "metadata": {
        "id": "48f31381"
      },
      "outputs": [],
      "source": [
        "# <--- AI Keyword Counter --->\n",
        "\n",
        "message = input().split()\n",
        "\n",
        "keywords = [\"ai\", \"data\", \"model\", \"learn\", \"train\", \"neural\"]\n",
        "\n",
        "count = 0\n",
        "\n",
        "for word in keywords:\n",
        "    if word in message:\n",
        "        count += 1\n",
        "\n",
        "if count >= 2:\n",
        "    print(\"AI Detected\")\n",
        "else:\n",
        "    print(\"Not AI Related\")"
      ]
    }
  ],
  "metadata": {
    "kernelspec": {
      "display_name": "Python 3",
      "language": "python",
      "name": "python3"
    },
    "language_info": {
      "codemirror_mode": {
        "name": "ipython",
        "version": 3
      },
      "file_extension": ".py",
      "mimetype": "text/x-python",
      "name": "python",
      "nbconvert_exporter": "python",
      "pygments_lexer": "ipython3",
      "version": "3.13.5"
    },
    "colab": {
      "provenance": [],
      "include_colab_link": true
    }
  },
  "nbformat": 4,
  "nbformat_minor": 5
}