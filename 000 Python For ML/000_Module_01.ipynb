{
  "nbformat": 4,
  "nbformat_minor": 0,
  "metadata": {
    "colab": {
      "provenance": [],
      "include_colab_link": true
    },
    "kernelspec": {
      "name": "python3",
      "display_name": "Python 3"
    },
    "language_info": {
      "name": "python"
    }
  },
  "cells": [
    {
      "cell_type": "markdown",
      "metadata": {
        "id": "view-in-github",
        "colab_type": "text"
      },
      "source": [
        "<a href=\"https://colab.research.google.com/github/zuhayerror3i8/AI-ML-Expert-With-Phitron-Batch-01/blob/main/000%20Python%20For%20ML/000_Module_01.ipynb\" target=\"_parent\"><img src=\"https://colab.research.google.com/assets/colab-badge.svg\" alt=\"Open In Colab\"/></a>"
      ]
    },
    {
      "cell_type": "markdown",
      "metadata": {
        "id": "7e74084c"
      },
      "source": [
        "\n",
        "# Module 1 — Python Core Foundations\n",
        "**Use in class**: Each section is budgeted to match the minutes in the syllabus.  \n",
        "**Format**: Quick theory → code demo → short exercises → stretch task.  \n",
        "**Tip**: Run top to bottom. Mark completed tasks with ✅.\n"
      ]
    },
    {
      "cell_type": "markdown",
      "source": [
        "#Week 1"
      ],
      "metadata": {
        "id": "j8kIoP_xep2y"
      }
    },
    {
      "cell_type": "markdown",
      "metadata": {
        "id": "bb45e87a"
      },
      "source": [
        "\n",
        "## 1) Python Basics Refresh\n",
        "\n",
        "**Topics**: types, slicing, truthiness, f‑strings\n"
      ]
    },
    {
      "cell_type": "code",
      "execution_count": null,
      "metadata": {
        "id": "b1910e4b"
      },
      "outputs": [],
      "source": [
        "# --- DEMO: Core types & literals ---\n",
        "x = 42        # int\n",
        "y = 3.14      # float\n",
        "z = \"hello\"   # str\n",
        "t = True      # bool\n",
        "lst = [[1, 2, 3, [\"Arif\", \"Rahul\", 3.5, 100*2], 4], [10 , 20, 30]]\n",
        "ls2D =[[1, 2, 3], [4, 5, 6]]         # list (mutable)\n",
        "tpl = (1, 2, 3, [1, 2, 3], \"Arif\")   # tuple (immutable)\n",
        "dct = {\"a\": 1, \"b\": 2, \"a\": 3}       # dict (mapping)\n",
        "st = {1, 2, 2, 3, \"Arif\"}            # set (unique)\n",
        "lst.append(10)\n",
        "\n",
        "print(dct)\n",
        "print(ls2D)\n",
        "print(tpl)\n",
        "print(st)\n",
        "print(type(x), type(y), type(z), type(lst), type(tpl), type(dct), type(st))"
      ]
    },
    {
      "cell_type": "code",
      "source": [
        "# --- DEMO: Slicing sequences ---\n",
        "nums = [10, 20, 30, 40, 50, 60]\n",
        "print(nums[1:4])    # middle slice\n",
        "print(nums[-3:])    # last 3\n",
        "print(nums[::2])    # step slice\n",
        "print(nums[::-1])   # reverse\n",
        "print(nums[:-3])"
      ],
      "metadata": {
        "id": "Gi1DOjtXbxIL"
      },
      "execution_count": null,
      "outputs": []
    },
    {
      "cell_type": "code",
      "source": [
        "# --- DEMO: Truthiness ---\n",
        "samples = [0, 1, \"\", \"text\", [], [1], {}, {\"k\": 1}, None]\n",
        "for item in samples:\n",
        "    if item:\n",
        "        print(repr(item), \"→ Truthy\")\n",
        "    else:\n",
        "        print(repr(item), \"→ Falsy\")\n",
        "\n",
        "# --- DEMO: f-strings ---\n",
        "name = \"John\"\n",
        "score = 95\n",
        "print(f\"{name} scored {score}% (next: {score + 1}%)\")"
      ],
      "metadata": {
        "id": "OsfRNAcsbxLk"
      },
      "execution_count": null,
      "outputs": []
    },
    {
      "cell_type": "code",
      "source": [
        "# --- DEMO: Nested data structures ---\n",
        "data = {\n",
        "    \"user\": {\n",
        "        \"name\": \"Alice\",\n",
        "        \"id\": 123,\n",
        "        \"contact\": {\n",
        "            \"email\": [\"alice@example.com\", \"abc@edu.com\"],\n",
        "            \"phone\": \"555-1234\"\n",
        "        }\n",
        "    },\n",
        "    \"items\": [\n",
        "        {\"name\": \"Laptop\", \"price\": 1200},\n",
        "        {\"name\": \"Keyboard\", \"price\": 75}\n",
        "    ]\n",
        "}\n",
        "\n",
        "print(\"User Name:\", data[\"user\"][\"name\"])\n",
        "print(\"First Item Price:\", data[\"items\"][0][\"price\"])\n",
        "print(\"User Email:\", data[\"user\"][\"contact\"][\"email\"][1])"
      ],
      "metadata": {
        "id": "BJW8EksfbxU_"
      },
      "execution_count": null,
      "outputs": []
    },
    {
      "cell_type": "markdown",
      "metadata": {
        "id": "25b70334"
      },
      "source": [
        "### Problem: Analyze Order Data\n",
        "\n",
        "Given the following nested dictionary representing a customer order, extract and print the following information:\n",
        "\n",
        "1.  The customer's full name.\n",
        "2.  The total price of all items in the order.\n",
        "3.  A list of the names of all items in the order."
      ]
    },
    {
      "cell_type": "code",
      "metadata": {
        "id": "a250722f"
      },
      "source": [
        "order_data = {\n",
        "    \"customer\": {\n",
        "        \"first_name\": \"Bob\",\n",
        "        \"last_name\": \"Johnson\"\n",
        "    },\n",
        "    \"items\": [\n",
        "        {\"item_name\": \"Book\",\n",
        "         \"price\": 25.99\n",
        "         },\n",
        "        {\"item_name\": \"Notebook\",\n",
        "         \"price\": 4.50\n",
        "         },\n",
        "        {\"item_name\": \"Pen\",\n",
        "         \"price\": 1.20\n",
        "         }\n",
        "    ]\n",
        "}\n",
        "\n",
        "# 1. Customer's full name\n",
        "full_name = f\"{order_data['customer']['first_name']} {order_data['customer']['last_name']}\"\n",
        "print(\"Customer Full Name:\", full_name)\n",
        "\n",
        "# 2. Total price of all items\n",
        "total_price = sum(item[\"price\"] for item in order_data[\"items\"])\n",
        "print(\"Total Order Price:\", total_price)\n",
        "\n",
        "# 3. List of item names\n",
        "item_names = [item[\"item_name\"] for item in order_data[\"items\"]]\n",
        "print(\"Item Names:\", item_names)"
      ],
      "execution_count": null,
      "outputs": []
    },
    {
      "cell_type": "markdown",
      "metadata": {
        "id": "6b172e2d"
      },
      "source": [
        "\n",
        "**Exercises (quick checks)**  \n",
        "- **E1.1**: Slice `mylist = [1,2,3,4,5,6,7,8]` to get the even-indexed items.  \n",
        "- **E1.2**: Using f‑strings, print: `\"User: <your name>, Items: <count>\"` where `count` is the length of a list.  \n",
        "- **Stretch**: Create a dict and print a sentence using f‑strings that references two keys.\n"
      ]
    },
    {
      "cell_type": "code",
      "execution_count": null,
      "metadata": {
        "id": "dfc91ddc"
      },
      "outputs": [],
      "source": [
        "# TODO E1.1\n",
        "mylist = [1,2,3,4,5,6,7,8]\n",
        "\n",
        "print(\"Even-indexed items:\", mylist[::2])\n",
        "\n",
        "# TODO E1.2\n",
        "name = \"XYZ\"\n",
        "item_count = 3\n",
        "\n",
        "print(f\"User: {name}, Items: {item_count}\")\n",
        "\n",
        "# TODO Stretch\n",
        "person = {\n",
        "    \"key_1\": \"Ada Lovelace\",\n",
        "    \"key_2\": \"Computing\"\n",
        "}\n",
        "\n",
        "print(f\"{person['key_1']} pioneered {person['key_2']}.\")"
      ]
    },
    {
      "cell_type": "code",
      "source": [
        "# -> Expected outputs:\n",
        "\n",
        "# Even-indexed items: [1, 3, 5, 7]\n",
        "# User: XYZ, Items: 3\n",
        "# Ada Lovelace pioneered Computing."
      ],
      "metadata": {
        "id": "gn7bafsxdrrM"
      },
      "execution_count": null,
      "outputs": []
    },
    {
      "cell_type": "code",
      "source": [
        "print(\"Next Slide\")"
      ],
      "metadata": {
        "id": "mvcf29LbIAsV"
      },
      "execution_count": null,
      "outputs": []
    },
    {
      "cell_type": "markdown",
      "metadata": {
        "id": "339d8fdf"
      },
      "source": [
        "\n",
        "## 2) Control Flow & Comprehensions\n",
        "\n",
        "**Topics**: if/elif/else, loops, list/dict/set comprehensions\n"
      ]
    },
    {
      "cell_type": "code",
      "execution_count": null,
      "metadata": {
        "id": "af4abf73",
        "collapsed": true
      },
      "outputs": [],
      "source": [
        "# --- DEMO: Control flow ---\n",
        "for i in range(10, 51):\n",
        "    if i == 0:\n",
        "        label = \"zero\"\n",
        "    elif i % 2 == 0:\n",
        "        label = \"even\"\n",
        "    else:\n",
        "        label = \"odd\"\n",
        "    print(i, \"→\", label)"
      ]
    },
    {
      "cell_type": "code",
      "source": [
        "for i in range(5):\n",
        "  for j in range(5):\n",
        "    print(i)\n",
        "    print(j)"
      ],
      "metadata": {
        "collapsed": true,
        "id": "6hsRwxUemrpB"
      },
      "execution_count": null,
      "outputs": []
    },
    {
      "cell_type": "code",
      "source": [
        "# --- DEMO: Comprehensions ---\n",
        "temp = [35, 40, 28, 32, 30]\n",
        "\n",
        "farhen = [item*(9/5)+32 for item in temp]\n",
        "print(f\"First {farhen}\")\n",
        "\n",
        "farhen1 = [item*(9/5)+32 for item in temp if item % 2 == 0]\n",
        "print(farhen1)\n",
        "\n",
        "for item in temp:\n",
        "  print(item*(9/5)+32)\n",
        "\n",
        "squares = [x**2 for x in range(6)]\n",
        "\n",
        "evens = [x for x in range(20) if x % 2 == 0]\n",
        "\n",
        "square_map = {x: x**2 for x in range(5)}\n",
        "\n",
        "unique_initials = {item[0].lower() for item in [\"Alice\", \"Bob\", \"alex\", \"Beta\"]}\n",
        "\n",
        "print(f\"Square is : {squares}\")\n",
        "print(f\"even: {evens}\")\n",
        "print(f\"smap: {square_map}\")\n",
        "print(f\"ui : {unique_initials}\")"
      ],
      "metadata": {
        "id": "onAqpxjLnJfZ"
      },
      "execution_count": null,
      "outputs": []
    },
    {
      "cell_type": "code",
      "source": [
        "nested_squares = [[x**2 for x in range(i, i+5) if x % 2 == 0] for i in range(1, 10, 3)]\n",
        "print(\"Nested Squares:\", nested_squares)"
      ],
      "metadata": {
        "id": "xb5R_P6lrjPC"
      },
      "execution_count": null,
      "outputs": []
    },
    {
      "cell_type": "code",
      "source": [
        "# --- DEMO: Nested Comprehensions and Conditional Logic ---\n",
        "# Create a list of lists where inner lists contain squares of even numbers\n",
        "nested_squares = [[x**2 for x in range(i, i+5) if x % 2 == 0] for i in range(1, 10, 3)]\n",
        "print(\"Nested Squares:\", nested_squares)\n",
        "\n",
        "# Create a dictionary mapping numbers to a description based on conditions\n",
        "number_descriptions = {\n",
        "    num: (\"Even and divisible by 3\" if num % 2 == 0 and num % 3 == 0\n",
        "          else \"Even\" if num % 2 == 0\n",
        "          else \"Odd and divisible by 3\" if num % 3 == 0\n",
        "          else \"Odd\")\n",
        "    for num in range(1, 100)\n",
        "}\n",
        "print(\"Number Descriptions:\", number_descriptions)"
      ],
      "metadata": {
        "id": "cS4ODs8sccJ7"
      },
      "execution_count": null,
      "outputs": []
    },
    {
      "cell_type": "markdown",
      "metadata": {
        "id": "7eae47c6"
      },
      "source": [
        "### Problem: Analyze User Order Data\n",
        "\n",
        "Given a list of user dictionaries, where each user has a list of orders, perform the following analyses:\n",
        "\n",
        "1. Calculate and print the total amount spent by each user.\n",
        "2. Create a list of all order amounts across all users.\n",
        "3. Create a dictionary mapping each user's ID to the number of orders they have placed."
      ]
    },
    {
      "cell_type": "code",
      "source": [
        "# --- DEMO: Combining Nested Structures with Control Flow and Comprehensions ---\n",
        "\n",
        "# Sample data: list of user dictionaries with a list of orders for each user\n",
        "users_data = [\n",
        "    {\"user_id\": 1, \"name\": \"Alice\", \"orders\": [{\"order_id\": \"A1\", \"amount\": 150}, {\"order_id\": \"A2\", \"amount\": 200}]},\n",
        "    {\"user_id\": 2, \"name\": \"Bob\", \"orders\": [{\"order_id\": \"B1\", \"amount\": 50}]},\n",
        "    {\"user_id\": 3, \"name\": \"Charlie\", \"orders\": []}\n",
        "]\n",
        "\n",
        "# Calculate the total amount spent by each user using a loop\n",
        "print(\"Total amount spent by each user (using loop):\")\n",
        "for user in users_data:\n",
        "    total_spent = 0\n",
        "    for order in user.get(\"orders\", []): # Use .get() for safe access\n",
        "        total_spent += order.get(\"amount\", 0) # Use .get() for safe access\n",
        "    print(f\"{user.get('name', 'N/A')}: ${total_spent}\")\n",
        "\n",
        "# Get a list of all order amounts across all users using a nested comprehension\n",
        "all_order_amounts = [order.get(\"amount\", 0) for user in users_data for order in user.get(\"orders\", [])]\n",
        "print(\"\\nAll order amounts:\", all_order_amounts)\n",
        "\n",
        "# Create a dictionary mapping user_id to the number of orders using a dictionary comprehension\n",
        "orders_count_by_user = {user.get(\"user_id\"): len(user.get(\"orders\", [])) for user in users_data}\n",
        "print(\"Number of orders per user:\", orders_count_by_user)"
      ],
      "metadata": {
        "id": "h6G6al0VccMf"
      },
      "execution_count": null,
      "outputs": []
    },
    {
      "cell_type": "markdown",
      "metadata": {
        "id": "eb5468a3"
      },
      "source": [
        "\n",
        "**Exercises**  \n",
        "- **E2.1**: From `text = \"Educating AI with Python\"`, build a **list** of vowels using a comprehension.  \n",
        "- **E2.2**: Create a **dict** mapping numbers 1..5 to `\"odd\"`/`\"even\"` using a comprehension.  \n",
        "- **Stretch**: Build a **set** of unique lowercase letters from a sentence, excluding spaces and punctuation.\n"
      ]
    },
    {
      "cell_type": "code",
      "execution_count": null,
      "metadata": {
        "id": "5bd26c26"
      },
      "outputs": [],
      "source": [
        "# TODO E2.1\n",
        "text = \"Educating AI with Python\"\n",
        "\n",
        "vowels_list = [i for i in text if i.lower() in \"aeiou\"]\n",
        "\n",
        "print(\"Vowels:\", vowels_list)\n",
        "\n",
        "# TODO E2.2\n",
        "num_dict = {n: (\"even\" if n % 2 == 0 else \"odd\") for n in range(1, 6)}\n",
        "\n",
        "print(\"Odd/Even map:\", num_dict)\n",
        "\n",
        "# TODO Stretch\n",
        "sentence = \"Clean sets from TEXT!\"\n",
        "\n",
        "unique_letters = {i.lower() for i in sentence if i.isalpha()}\n",
        "\n",
        "print(\"Letters:\", unique_letters)"
      ]
    },
    {
      "cell_type": "code",
      "source": [
        "# -> Expected outputs:\n",
        "\n",
        "# Vowels: ['E', 'u', 'a', 'i', 'A', 'I', 'i', 'o']\n",
        "# Odd/Even map: {1: 'odd', 2: 'even', 3: 'odd', 4: 'even', 5: 'odd'}\n",
        "# Letters: {'e', 'o', 't', 'x', 'm', 'l', 'r', 'c', 'f', 'a', 's', 'n'}"
      ],
      "metadata": {
        "id": "qQFEirAId2hc"
      },
      "execution_count": null,
      "outputs": []
    }
  ]
}