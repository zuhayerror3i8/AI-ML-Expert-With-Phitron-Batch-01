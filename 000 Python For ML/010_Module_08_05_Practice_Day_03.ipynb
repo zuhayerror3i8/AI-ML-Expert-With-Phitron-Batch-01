{
  "cells": [
    {
      "cell_type": "markdown",
      "metadata": {
        "id": "view-in-github",
        "colab_type": "text"
      },
      "source": [
        "<a href=\"https://colab.research.google.com/github/zuhayerror3i8/AI-ML-Expert-With-Phitron-Batch-01/blob/main/000%20Python%20For%20ML/010_Module_08_05_Practice_Day_03.ipynb\" target=\"_parent\"><img src=\"https://colab.research.google.com/assets/colab-badge.svg\" alt=\"Open In Colab\"/></a>"
      ]
    },
    {
      "cell_type": "markdown",
      "id": "803a936f",
      "metadata": {
        "id": "803a936f"
      },
      "source": [
        "# Module 8.5 — Practice Day 3"
      ]
    },
    {
      "cell_type": "markdown",
      "id": "48a6ebc4",
      "metadata": {
        "id": "48a6ebc4"
      },
      "source": [
        "```\n",
        "Project Name:\n",
        "    Smart Vehicle Classifier\n",
        "\n",
        "Description:\n",
        "    This project simulates a simple AI-based vehicle classifier using Object-Oriented Programming (OOP).\n",
        "    It demonstrates inheritance, protected and private members, method overriding, and encapsulation.\n",
        "    The program manages two types of vehicles: Car and Bike. Each class inherits from a base class Vehicle.\n",
        "    A simple classifier method predicts the type of vehicle based on its speed threshold.\n",
        "\n",
        "Task Statement:\n",
        "    Design and implement a simple program that classifies vehicles based on their type and speed using Object-Oriented Programming (OOP) principles.\n",
        "\n",
        "You must:\n",
        "    - Create a base class Vehicle that stores vehicle type, name, and speed.\n",
        "    - Use protected and private attributes in the base class to demonstrate encapsulation.\n",
        "    - Implement a method classify() that categorizes vehicles as High-speed Vehicle if the speed is greater than 100, otherwise Normal Vehicle.\n",
        "    - Derive two subclasses — Car and Bike — from Vehicle. Each should override the show_info() method to display detailed information.\n",
        "    - Read multiple inputs representing different vehicles, create corresponding objects, and print their details along with their classification results.\n",
        "\n",
        "Input\n",
        "    3\n",
        "    Car Toyota 150\n",
        "    Bike Yamaha 90\n",
        "    Car Honda 120\n",
        "\n",
        "Output\n",
        "    Car Added: Toyota\n",
        "    Bike Added: Yamaha\n",
        "    Car Added: Honda\n",
        "\n",
        "    --- Vehicle Details ---\n",
        "    Type: Car, Name: Toyota, Speed: 150 km/h, Predicted: High-speed Vehicle\n",
        "    Type: Bike, Name: Yamaha, Speed: 90 km/h, Predicted: Normal Vehicle\n",
        "    Type: Car, Name: Honda, Speed: 120 km/h, Predicted: High-speed Vehicle\n",
        "```\n"
      ]
    },
    {
      "cell_type": "code",
      "execution_count": null,
      "id": "1280c8d8",
      "metadata": {
        "id": "1280c8d8"
      },
      "outputs": [],
      "source": [
        "class Vehicle:\n",
        "    def __init__(self, vehicle_type, name, speed):\n",
        "        self._vehicle_type = vehicle_type\n",
        "        self.__name = name\n",
        "        self.__speed = speed\n",
        "\n",
        "    def get_type(self):\n",
        "        return self._vehicle_type\n",
        "\n",
        "    def get_name(self):\n",
        "        return self.__name\n",
        "\n",
        "    def get_speed(self):\n",
        "        return self.__speed\n",
        "\n",
        "    def classify(self):\n",
        "        if self.get_speed() > 100:\n",
        "            return \"High-speed Vehicle\"\n",
        "        else:\n",
        "            return \"Normal Vehicle\"\n",
        "\n",
        "    def show_info(self):\n",
        "        print(f\"Type: {self.get_type()}, Name: {self.get_name()}, Speed: {self.get_speed()} km/h, Predicted: {self.classify()}\")\n",
        "\n",
        "class Car(Vehicle):\n",
        "    def __init__(self, name, speed):\n",
        "        super().__init__(\"Car\", name, speed)\n",
        "        print(f\"Car Added: {name}\")\n",
        "\n",
        "    def show_info(self):\n",
        "        print(f\"Type: {self.get_type()}, Name: {self.get_name()}, Speed: {self.get_speed()} km/h, Predicted: {self.classify()}\")\n",
        "\n",
        "class Bike(Vehicle):\n",
        "    def __init__(self, name, speed):\n",
        "        super().__init__(\"Bike\", name, speed)\n",
        "        print(f\"Bike Added: {name}\")\n",
        "\n",
        "    def show_info(self):\n",
        "        print(f\"Type: {self.get_type()}, Name: {self.get_name()}, Speed: {self.get_speed()} km/h, Predicted: {self.classify()}\")\n",
        "\n",
        "n = int(input())\n",
        "\n",
        "vehicles = []\n",
        "\n",
        "for i in range(n):\n",
        "    line = input().split()\n",
        "    vehicle_type = line[0]\n",
        "    name = line[1]\n",
        "    speed = int(line[2])\n",
        "\n",
        "    if vehicle_type == \"Car\":\n",
        "        vehicles.append(Car(name, speed))\n",
        "    elif vehicle_type == \"Bike\":\n",
        "        vehicles.append(Bike(name, speed))\n",
        "\n",
        "print(\"\\n--- Vehicle Details ---\")\n",
        "for vehicle in vehicles:\n",
        "    vehicle.show_info()"
      ]
    }
  ],
  "metadata": {
    "kernelspec": {
      "display_name": "Python 3",
      "language": "python",
      "name": "python3"
    },
    "language_info": {
      "codemirror_mode": {
        "name": "ipython",
        "version": 3
      },
      "file_extension": ".py",
      "mimetype": "text/x-python",
      "name": "python",
      "nbconvert_exporter": "python",
      "pygments_lexer": "ipython3",
      "version": "3.13.5"
    },
    "colab": {
      "provenance": [],
      "include_colab_link": true
    }
  },
  "nbformat": 4,
  "nbformat_minor": 5
}